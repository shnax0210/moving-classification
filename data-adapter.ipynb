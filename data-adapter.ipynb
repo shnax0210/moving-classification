{
 "cells": [
  {
   "cell_type": "code",
   "execution_count": 100,
   "metadata": {},
   "outputs": [],
   "source": [
    "import pandas as pd\n",
    "\n",
    "INPUT_FILE = 'gyroscope_datawithamount.csv'\n",
    "PARSED_FILE = 'parsed_gyroscope_datawithamount.csv'\n",
    "ADAPTED_FILE = 'adapted_gyroscope_datawithamount.csv'"
   ]
  },
  {
   "cell_type": "code",
   "execution_count": 101,
   "metadata": {},
   "outputs": [],
   "source": [
    "df = pd.read_csv(INPUT_FILE)"
   ]
  },
  {
   "cell_type": "code",
   "execution_count": 102,
   "metadata": {},
   "outputs": [
    {
     "data": {
      "text/html": [
       "<div>\n",
       "<style scoped>\n",
       "    .dataframe tbody tr th:only-of-type {\n",
       "        vertical-align: middle;\n",
       "    }\n",
       "\n",
       "    .dataframe tbody tr th {\n",
       "        vertical-align: top;\n",
       "    }\n",
       "\n",
       "    .dataframe thead th {\n",
       "        text-align: right;\n",
       "    }\n",
       "</style>\n",
       "<table border=\"1\" class=\"dataframe\">\n",
       "  <thead>\n",
       "    <tr style=\"text-align: right;\">\n",
       "      <th></th>\n",
       "      <th>activity_id</th>\n",
       "      <th>ax_axis</th>\n",
       "      <th>ay_axis</th>\n",
       "      <th>az_axis</th>\n",
       "      <th>id</th>\n",
       "      <th>magn_z</th>\n",
       "      <th>text</th>\n",
       "      <th>time</th>\n",
       "      <th>x_axis</th>\n",
       "      <th>y_axis</th>\n",
       "      <th>z_axis</th>\n",
       "    </tr>\n",
       "  </thead>\n",
       "  <tbody>\n",
       "    <tr>\n",
       "      <th>0</th>\n",
       "      <td>0</td>\n",
       "      <td>0.0</td>\n",
       "      <td>0.0</td>\n",
       "      <td>0.0</td>\n",
       "      <td>1</td>\n",
       "      <td>0.0</td>\n",
       "      <td>NaN</td>\n",
       "      <td>1532622298260</td>\n",
       "      <td>0.0</td>\n",
       "      <td>0.0</td>\n",
       "      <td>0.0</td>\n",
       "    </tr>\n",
       "    <tr>\n",
       "      <th>1</th>\n",
       "      <td>0</td>\n",
       "      <td>-1.0</td>\n",
       "      <td>-2.0</td>\n",
       "      <td>6.0</td>\n",
       "      <td>2</td>\n",
       "      <td>0.0</td>\n",
       "      <td>NaN</td>\n",
       "      <td>1532622298298</td>\n",
       "      <td>-6.0</td>\n",
       "      <td>7.0</td>\n",
       "      <td>-1.0</td>\n",
       "    </tr>\n",
       "    <tr>\n",
       "      <th>2</th>\n",
       "      <td>0</td>\n",
       "      <td>0.0</td>\n",
       "      <td>-2.0</td>\n",
       "      <td>5.0</td>\n",
       "      <td>3</td>\n",
       "      <td>0.0</td>\n",
       "      <td>NaN</td>\n",
       "      <td>1532622298335</td>\n",
       "      <td>-4.0</td>\n",
       "      <td>5.0</td>\n",
       "      <td>0.0</td>\n",
       "    </tr>\n",
       "    <tr>\n",
       "      <th>3</th>\n",
       "      <td>0</td>\n",
       "      <td>0.0</td>\n",
       "      <td>-1.0</td>\n",
       "      <td>4.0</td>\n",
       "      <td>4</td>\n",
       "      <td>0.0</td>\n",
       "      <td>NaN</td>\n",
       "      <td>1532622298375</td>\n",
       "      <td>-2.0</td>\n",
       "      <td>5.0</td>\n",
       "      <td>0.0</td>\n",
       "    </tr>\n",
       "    <tr>\n",
       "      <th>4</th>\n",
       "      <td>0</td>\n",
       "      <td>0.0</td>\n",
       "      <td>-1.0</td>\n",
       "      <td>3.0</td>\n",
       "      <td>5</td>\n",
       "      <td>0.0</td>\n",
       "      <td>NaN</td>\n",
       "      <td>1532622298415</td>\n",
       "      <td>-3.0</td>\n",
       "      <td>4.0</td>\n",
       "      <td>0.0</td>\n",
       "    </tr>\n",
       "  </tbody>\n",
       "</table>\n",
       "</div>"
      ],
      "text/plain": [
       "   activity_id  ax_axis  ay_axis  az_axis  id  magn_z text           time  \\\n",
       "0            0      0.0      0.0      0.0   1     0.0  NaN  1532622298260   \n",
       "1            0     -1.0     -2.0      6.0   2     0.0  NaN  1532622298298   \n",
       "2            0      0.0     -2.0      5.0   3     0.0  NaN  1532622298335   \n",
       "3            0      0.0     -1.0      4.0   4     0.0  NaN  1532622298375   \n",
       "4            0      0.0     -1.0      3.0   5     0.0  NaN  1532622298415   \n",
       "\n",
       "   x_axis  y_axis  z_axis  \n",
       "0     0.0     0.0     0.0  \n",
       "1    -6.0     7.0    -1.0  \n",
       "2    -4.0     5.0     0.0  \n",
       "3    -2.0     5.0     0.0  \n",
       "4    -3.0     4.0     0.0  "
      ]
     },
     "execution_count": 102,
     "metadata": {},
     "output_type": "execute_result"
    }
   ],
   "source": [
    "df.head()"
   ]
  },
  {
   "cell_type": "code",
   "execution_count": 103,
   "metadata": {},
   "outputs": [],
   "source": [
    "users = []\n",
    "activity_types = []\n",
    "numbers_of_repeats = []\n",
    "\n",
    "CORRUPTED_DATA = 'CORRUPTED_DATA'\n",
    "\n",
    "def parse_text(text):\n",
    "    user = CORRUPTED_DATA\n",
    "    activity_type = CORRUPTED_DATA\n",
    "    number_of_repeats = 0\n",
    "    \n",
    "    if not isinstance(text, str) or not text:\n",
    "        return user, activity_type, number_of_repeats\n",
    "    \n",
    "    parts_of_text = text.split(',')\n",
    "    \n",
    "    user = parts_of_text[0].strip()\n",
    "    \n",
    "    if len(parts_of_text) > 1 and not parts_of_text[1].isdigit():\n",
    "        activity_type = parts_of_text[1].strip().replace(' ', '')\n",
    "        \n",
    "        if activity_type == 'oause':\n",
    "            activity_type = 'pause'\n",
    "        \n",
    "    if len(parts_of_text) > 2:\n",
    "        number_of_repeats = int(parts_of_text[2])\n",
    "    \n",
    "    if len(parts_of_text) > 3:\n",
    "        raise ValueError('Text field has mere that 3 parts: ' + text)\n",
    "        \n",
    "    return user, activity_type, number_of_repeats\n",
    "    \n",
    "\n",
    "for text in df['text']:\n",
    "    user, activity_type, number_of_repeats = parse_text(text)\n",
    "    \n",
    "    users.append(user)\n",
    "    activity_types.append(activity_type)\n",
    "    numbers_of_repeats.append(number_of_repeats)\n",
    "    \n",
    "df['user'] = users\n",
    "df['activity_type'] = activity_types\n",
    "df['number_of_repeats'] = numbers_of_repeats\n",
    "\n",
    "df = df[df['user'] != CORRUPTED_DATA]\n",
    "df = df[df['activity_type'] != CORRUPTED_DATA]"
   ]
  },
  {
   "cell_type": "code",
   "execution_count": 104,
   "metadata": {},
   "outputs": [
    {
     "data": {
      "text/plain": [
       "array(['anton', 'andreys', 'vitalii'], dtype=object)"
      ]
     },
     "execution_count": 104,
     "metadata": {},
     "output_type": "execute_result"
    }
   ],
   "source": [
    "df['user'].unique()"
   ]
  },
  {
   "cell_type": "code",
   "execution_count": 105,
   "metadata": {},
   "outputs": [
    {
     "data": {
      "text/plain": [
       "array(['pause', 'situps', 'pushups', 'abs'], dtype=object)"
      ]
     },
     "execution_count": 105,
     "metadata": {},
     "output_type": "execute_result"
    }
   ],
   "source": [
    "df['activity_type'].unique()"
   ]
  },
  {
   "cell_type": "code",
   "execution_count": 106,
   "metadata": {},
   "outputs": [
    {
     "data": {
      "text/plain": [
       "array([ 0, 14, 10, 20, 11])"
      ]
     },
     "execution_count": 106,
     "metadata": {},
     "output_type": "execute_result"
    }
   ],
   "source": [
    "df['number_of_repeats'].unique()"
   ]
  },
  {
   "cell_type": "code",
   "execution_count": 107,
   "metadata": {},
   "outputs": [],
   "source": [
    "df = df.drop(columns=['activity_id', 'text', 'id'])"
   ]
  },
  {
   "cell_type": "code",
   "execution_count": 108,
   "metadata": {},
   "outputs": [],
   "source": [
    "df.to_csv(PARSED_FILE, index=False)"
   ]
  },
  {
   "cell_type": "code",
   "execution_count": 109,
   "metadata": {},
   "outputs": [],
   "source": [
    "df = df.drop(columns=['time', 'user', 'number_of_repeats'])"
   ]
  },
  {
   "cell_type": "code",
   "execution_count": 110,
   "metadata": {},
   "outputs": [],
   "source": [
    "df.to_csv(ADAPTED_FILE, index=False)"
   ]
  },
  {
   "cell_type": "code",
   "execution_count": null,
   "metadata": {},
   "outputs": [],
   "source": []
  }
 ],
 "metadata": {
  "kernelspec": {
   "display_name": "Python 3",
   "language": "python",
   "name": "python3"
  },
  "language_info": {
   "codemirror_mode": {
    "name": "ipython",
    "version": 3
   },
   "file_extension": ".py",
   "mimetype": "text/x-python",
   "name": "python",
   "nbconvert_exporter": "python",
   "pygments_lexer": "ipython3",
   "version": "3.6.5"
  }
 },
 "nbformat": 4,
 "nbformat_minor": 2
}
