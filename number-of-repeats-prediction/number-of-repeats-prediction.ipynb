{
 "cells": [
  {
   "cell_type": "code",
   "execution_count": 11,
   "metadata": {},
   "outputs": [
    {
     "data": {
      "text/plain": [
       "'2.2.0'"
      ]
     },
     "execution_count": 11,
     "metadata": {},
     "output_type": "execute_result"
    }
   ],
   "source": [
    "import keras\n",
    "keras.__version__"
   ]
  },
  {
   "cell_type": "code",
   "execution_count": 12,
   "metadata": {},
   "outputs": [],
   "source": [
    "%matplotlib inline\n",
    "\n",
    "import pandas as pd\n",
    "import matplotlib.pyplot as plt\n",
    "import numpy as np"
   ]
  },
  {
   "cell_type": "code",
   "execution_count": 13,
   "metadata": {},
   "outputs": [],
   "source": [
    "CSV_FILE_PATH = '../merged_gyroscope_data.csv'"
   ]
  },
  {
   "cell_type": "code",
   "execution_count": 14,
   "metadata": {},
   "outputs": [],
   "source": [
    "df = pd.read_csv(CSV_FILE_PATH)"
   ]
  },
  {
   "cell_type": "code",
   "execution_count": 16,
   "metadata": {},
   "outputs": [],
   "source": [
    "def find_ids_of_activities(df):\n",
    "    ids_of_activities = []\n",
    "    id_of_activity = 0\n",
    "    previous_activity = ''\n",
    "    \n",
    "    for index, row in df.iterrows():\n",
    "        if previous_activity != row['activity_type']:\n",
    "            id_of_activity = id_of_activity + 1\n",
    "            previous_activity = row['activity_type']\n",
    "        ids_of_activities.append(id_of_activity)\n",
    "        \n",
    "    return ids_of_activities\n",
    "    \n",
    "df['activity_id'] = find_ids_of_activities(df)"
   ]
  },
  {
   "cell_type": "code",
   "execution_count": 17,
   "metadata": {},
   "outputs": [],
   "source": [
    "df = df[df['activity_type'] != 'pause']"
   ]
  },
  {
   "cell_type": "code",
   "execution_count": 18,
   "metadata": {},
   "outputs": [],
   "source": [
    "FEATURE_COLUMNS = ['ax_axis', 'ay_axis', 'az_axis', 'magn_z', 'x_axis', 'y_axis', 'z_axis']\n",
    "MEASUREMENTS_PER_SAMPLE = 30000\n",
    "\n",
    "def prepare_samples_and_targets(df, activity_type):\n",
    "    activity_type_df = df[df['activity_type'] == activity_type]\n",
    "    targets = []\n",
    "    samples = []\n",
    "    \n",
    "    def find_target(activity_id_df):\n",
    "        numbers_of_repeats = activity_id_df['number_of_repeats'].unique()\n",
    "        \n",
    "        if len(numbers_of_repeats) > 1:\n",
    "            raise ValueError('One activity has multiple number of repeats: ' + activity_id_df)\n",
    "            \n",
    "        return numbers_of_repeats[0]\n",
    "    \n",
    "    def buid_sample(activity_id_df):\n",
    "        features_df = activity_id_df[FEATURE_COLUMNS]\n",
    "        zero_rows_number = MEASUREMENTS_PER_SAMPLE - features_df.shape[0]\n",
    "        \n",
    "        return np.concatenate((features_df.values, np.zeros((zero_rows_number, len(FEATURE_COLUMNS)))), axis=0)\n",
    "    \n",
    "    for activity_id in activity_type_df['activity_id'].unique():\n",
    "        activity_id_df = activity_type_df[activity_type_df['activity_id'] == activity_id]\n",
    "        \n",
    "        targets.append(find_target(activity_id_df))\n",
    "        samples.append(buid_sample(activity_id_df))\n",
    "        \n",
    "    return np.array(samples), np.array(targets)"
   ]
  },
  {
   "cell_type": "code",
   "execution_count": 19,
   "metadata": {},
   "outputs": [
    {
     "data": {
      "text/html": [
       "<div>\n",
       "<style scoped>\n",
       "    .dataframe tbody tr th:only-of-type {\n",
       "        vertical-align: middle;\n",
       "    }\n",
       "\n",
       "    .dataframe tbody tr th {\n",
       "        vertical-align: top;\n",
       "    }\n",
       "\n",
       "    .dataframe thead th {\n",
       "        text-align: right;\n",
       "    }\n",
       "</style>\n",
       "<table border=\"1\" class=\"dataframe\">\n",
       "  <thead>\n",
       "    <tr style=\"text-align: right;\">\n",
       "      <th></th>\n",
       "      <th>ax_axis</th>\n",
       "      <th>ay_axis</th>\n",
       "      <th>az_axis</th>\n",
       "      <th>magn_z</th>\n",
       "      <th>x_axis</th>\n",
       "      <th>y_axis</th>\n",
       "      <th>z_axis</th>\n",
       "    </tr>\n",
       "  </thead>\n",
       "  <tbody>\n",
       "    <tr>\n",
       "      <th>count</th>\n",
       "      <td>55959.000000</td>\n",
       "      <td>55959.000000</td>\n",
       "      <td>55959.000000</td>\n",
       "      <td>55959.0</td>\n",
       "      <td>55959.000000</td>\n",
       "      <td>55959.000000</td>\n",
       "      <td>55959.000000</td>\n",
       "    </tr>\n",
       "    <tr>\n",
       "      <th>mean</th>\n",
       "      <td>-0.010811</td>\n",
       "      <td>0.013832</td>\n",
       "      <td>-0.003628</td>\n",
       "      <td>0.0</td>\n",
       "      <td>-1.906628</td>\n",
       "      <td>1.284959</td>\n",
       "      <td>-0.732626</td>\n",
       "    </tr>\n",
       "    <tr>\n",
       "      <th>std</th>\n",
       "      <td>2.001833</td>\n",
       "      <td>1.501487</td>\n",
       "      <td>1.636922</td>\n",
       "      <td>0.0</td>\n",
       "      <td>46.820172</td>\n",
       "      <td>55.016864</td>\n",
       "      <td>56.965730</td>\n",
       "    </tr>\n",
       "    <tr>\n",
       "      <th>min</th>\n",
       "      <td>-18.000000</td>\n",
       "      <td>-16.000000</td>\n",
       "      <td>-15.000000</td>\n",
       "      <td>0.0</td>\n",
       "      <td>-360.000000</td>\n",
       "      <td>-285.000000</td>\n",
       "      <td>-356.000000</td>\n",
       "    </tr>\n",
       "    <tr>\n",
       "      <th>25%</th>\n",
       "      <td>-1.000000</td>\n",
       "      <td>-1.000000</td>\n",
       "      <td>-1.000000</td>\n",
       "      <td>0.0</td>\n",
       "      <td>-26.000000</td>\n",
       "      <td>-16.000000</td>\n",
       "      <td>-30.000000</td>\n",
       "    </tr>\n",
       "    <tr>\n",
       "      <th>50%</th>\n",
       "      <td>0.000000</td>\n",
       "      <td>0.000000</td>\n",
       "      <td>0.000000</td>\n",
       "      <td>0.0</td>\n",
       "      <td>-3.000000</td>\n",
       "      <td>2.000000</td>\n",
       "      <td>-2.000000</td>\n",
       "    </tr>\n",
       "    <tr>\n",
       "      <th>75%</th>\n",
       "      <td>1.000000</td>\n",
       "      <td>1.000000</td>\n",
       "      <td>1.000000</td>\n",
       "      <td>0.0</td>\n",
       "      <td>24.000000</td>\n",
       "      <td>20.000000</td>\n",
       "      <td>28.000000</td>\n",
       "    </tr>\n",
       "    <tr>\n",
       "      <th>max</th>\n",
       "      <td>13.000000</td>\n",
       "      <td>19.000000</td>\n",
       "      <td>10.000000</td>\n",
       "      <td>0.0</td>\n",
       "      <td>330.000000</td>\n",
       "      <td>252.000000</td>\n",
       "      <td>325.000000</td>\n",
       "    </tr>\n",
       "  </tbody>\n",
       "</table>\n",
       "</div>"
      ],
      "text/plain": [
       "            ax_axis       ay_axis       az_axis   magn_z        x_axis  \\\n",
       "count  55959.000000  55959.000000  55959.000000  55959.0  55959.000000   \n",
       "mean      -0.010811      0.013832     -0.003628      0.0     -1.906628   \n",
       "std        2.001833      1.501487      1.636922      0.0     46.820172   \n",
       "min      -18.000000    -16.000000    -15.000000      0.0   -360.000000   \n",
       "25%       -1.000000     -1.000000     -1.000000      0.0    -26.000000   \n",
       "50%        0.000000      0.000000      0.000000      0.0     -3.000000   \n",
       "75%        1.000000      1.000000      1.000000      0.0     24.000000   \n",
       "max       13.000000     19.000000     10.000000      0.0    330.000000   \n",
       "\n",
       "             y_axis        z_axis  \n",
       "count  55959.000000  55959.000000  \n",
       "mean       1.284959     -0.732626  \n",
       "std       55.016864     56.965730  \n",
       "min     -285.000000   -356.000000  \n",
       "25%      -16.000000    -30.000000  \n",
       "50%        2.000000     -2.000000  \n",
       "75%       20.000000     28.000000  \n",
       "max      252.000000    325.000000  "
      ]
     },
     "execution_count": 19,
     "metadata": {},
     "output_type": "execute_result"
    }
   ],
   "source": [
    "df[FEATURE_COLUMNS].describe()"
   ]
  },
  {
   "cell_type": "code",
   "execution_count": 21,
   "metadata": {},
   "outputs": [
    {
     "name": "stdout",
     "output_type": "stream",
     "text": [
      "(15, 30000, 7)\n",
      "(15,)\n"
     ]
    }
   ],
   "source": [
    "samples, targets = prepare_samples_and_targets(df, 'situps')\n",
    "\n",
    "print(samples.shape)\n",
    "print(targets.shape)"
   ]
  },
  {
   "cell_type": "code",
   "execution_count": 22,
   "metadata": {},
   "outputs": [],
   "source": [
    "def shuffleSamplesAndTargets(samples, targets):\n",
    "    randomize = np.arange(samples.shape[0])\n",
    "    np.random.shuffle(randomize)\n",
    "    samples = samples[randomize]\n",
    "    targets = targets[randomize]\n",
    "    \n",
    "    return samples, targets\n",
    "\n",
    "samples, targets = shuffleSamplesAndTargets(samples, targets)"
   ]
  },
  {
   "cell_type": "code",
   "execution_count": 23,
   "metadata": {},
   "outputs": [
    {
     "name": "stdout",
     "output_type": "stream",
     "text": [
      "(10, 30000, 7)\n",
      "(10,)\n",
      "(4, 30000, 7)\n",
      "(4,)\n",
      "(0, 30000, 7)\n",
      "(0,)\n"
     ]
    }
   ],
   "source": [
    "train_part_in_percents = 0.7\n",
    "val_part_in_percents = 0.3\n",
    "test_part_in_percents = 0.0\n",
    "\n",
    "train_part_end = int(train_part_in_percents * samples.shape[0])\n",
    "val_part_end = train_part_end + int(val_part_in_percents * samples.shape[0])\n",
    "test_part_end = val_part_end + int(test_part_in_percents * samples.shape[0])\n",
    "\n",
    "train_data = samples[0:train_part_end]\n",
    "train_labels = targets[0:train_part_end]\n",
    "print(train_data.shape)\n",
    "print(train_labels.shape)\n",
    "\n",
    "val_data = samples[train_part_end:val_part_end]\n",
    "val_labels = targets[train_part_end:val_part_end]\n",
    "print(val_data.shape)\n",
    "print(val_labels.shape)\n",
    "\n",
    "test_data = samples[val_part_end:test_part_end]\n",
    "test_labels = targets[val_part_end:test_part_end]\n",
    "print(test_data.shape)\n",
    "print(test_labels.shape)"
   ]
  },
  {
   "cell_type": "code",
   "execution_count": 24,
   "metadata": {},
   "outputs": [],
   "source": [
    "from keras import models\n",
    "from keras import layers\n",
    "from keras import regularizers\n",
    "\n",
    "model = models.Sequential()\n",
    "model.add(layers.Conv1D(64, 7, activation='relu',\n",
    "                        input_shape=(None, train_data.shape[-1])))\n",
    "model.add(layers.Conv1D(64, 7, activation='relu'))\n",
    "model.add(layers.Conv1D(64, 7, activation='relu'))\n",
    "model.add(layers.GlobalMaxPooling1D())\n",
    "model.add(layers.Dense(32, activation='relu', kernel_regularizer=regularizers.l2(0.01)))\n",
    "model.add(layers.Dense(1, activation='relu'))"
   ]
  },
  {
   "cell_type": "code",
   "execution_count": 25,
   "metadata": {},
   "outputs": [],
   "source": [
    "from keras import optimizers\n",
    "\n",
    "model.compile(optimizer=optimizers.RMSprop(lr=0.00005),\n",
    "              loss='mse',\n",
    "              metrics=['accuracy'])"
   ]
  },
  {
   "cell_type": "code",
   "execution_count": 26,
   "metadata": {},
   "outputs": [
    {
     "name": "stdout",
     "output_type": "stream",
     "text": [
      "Train on 10 samples, validate on 4 samples\n",
      "Epoch 1/20\n",
      "10/10 [==============================] - 2s 247ms/step - loss: 156.1779 - acc: 0.0000e+00 - val_loss: 32.3888 - val_acc: 0.0000e+00\n",
      "Epoch 2/20\n",
      "10/10 [==============================] - 2s 181ms/step - loss: 30.2924 - acc: 0.1000 - val_loss: 15.3604 - val_acc: 0.0000e+00\n",
      "Epoch 3/20\n",
      "10/10 [==============================] - 2s 182ms/step - loss: 21.9287 - acc: 0.1000 - val_loss: 31.3342 - val_acc: 0.2500\n",
      "Epoch 4/20\n",
      "10/10 [==============================] - 2s 181ms/step - loss: 20.8075 - acc: 0.1000 - val_loss: 17.0173 - val_acc: 0.0000e+00\n",
      "Epoch 5/20\n",
      "10/10 [==============================] - 2s 179ms/step - loss: 14.1437 - acc: 0.2000 - val_loss: 21.4444 - val_acc: 0.0000e+00\n",
      "Epoch 6/20\n",
      "10/10 [==============================] - 2s 191ms/step - loss: 12.3015 - acc: 0.1000 - val_loss: 9.5772 - val_acc: 0.0000e+00\n",
      "Epoch 7/20\n",
      "10/10 [==============================] - 2s 186ms/step - loss: 12.8515 - acc: 0.2000 - val_loss: 11.4873 - val_acc: 0.0000e+00\n",
      "Epoch 8/20\n",
      "10/10 [==============================] - 2s 196ms/step - loss: 9.3602 - acc: 0.0000e+00 - val_loss: 15.0218 - val_acc: 0.0000e+00\n",
      "Epoch 9/20\n",
      "10/10 [==============================] - 2s 213ms/step - loss: 7.4626 - acc: 0.2000 - val_loss: 13.2542 - val_acc: 0.0000e+00\n",
      "Epoch 10/20\n",
      "10/10 [==============================] - 2s 210ms/step - loss: 6.5335 - acc: 0.4000 - val_loss: 13.0667 - val_acc: 0.0000e+00\n",
      "Epoch 11/20\n",
      "10/10 [==============================] - 2s 189ms/step - loss: 5.8094 - acc: 0.3000 - val_loss: 19.0307 - val_acc: 0.0000e+00\n",
      "Epoch 12/20\n",
      "10/10 [==============================] - 2s 191ms/step - loss: 5.1226 - acc: 0.4000 - val_loss: 18.2171 - val_acc: 0.0000e+00\n",
      "Epoch 13/20\n",
      "10/10 [==============================] - 2s 194ms/step - loss: 4.0001 - acc: 0.4000 - val_loss: 15.7631 - val_acc: 0.0000e+00\n",
      "Epoch 14/20\n",
      "10/10 [==============================] - 2s 215ms/step - loss: 3.5282 - acc: 0.5000 - val_loss: 20.4769 - val_acc: 0.0000e+00\n",
      "Epoch 15/20\n",
      "10/10 [==============================] - 2s 193ms/step - loss: 3.1405 - acc: 0.3000 - val_loss: 15.2694 - val_acc: 0.0000e+00\n",
      "Epoch 16/20\n",
      "10/10 [==============================] - 2s 210ms/step - loss: 3.5489 - acc: 0.3000 - val_loss: 12.8909 - val_acc: 0.0000e+00\n",
      "Epoch 17/20\n",
      "10/10 [==============================] - 2s 245ms/step - loss: 6.1442 - acc: 0.2000 - val_loss: 12.9684 - val_acc: 0.0000e+00\n",
      "Epoch 18/20\n",
      "10/10 [==============================] - 2s 216ms/step - loss: 6.2801 - acc: 0.2000 - val_loss: 12.1296 - val_acc: 0.0000e+00\n",
      "Epoch 19/20\n",
      "10/10 [==============================] - 3s 268ms/step - loss: 3.9090 - acc: 0.2000 - val_loss: 30.8185 - val_acc: 0.0000e+00\n",
      "Epoch 20/20\n",
      "10/10 [==============================] - 2s 220ms/step - loss: 4.2427 - acc: 0.1000 - val_loss: 14.1070 - val_acc: 0.0000e+00\n"
     ]
    }
   ],
   "source": [
    "PATH_TO_BEST_MODEL = 'models/best_model.hdf5'\n",
    "\n",
    "callbacks = [\n",
    "    keras.callbacks.ModelCheckpoint(PATH_TO_BEST_MODEL, \n",
    "                                    monitor='val_loss', \n",
    "                                    verbose=0, \n",
    "                                    save_best_only=True, \n",
    "                                    save_weights_only=False, \n",
    "                                    mode='auto', \n",
    "                                    period=1)\n",
    "]\n",
    "\n",
    "history = model.fit(train_data,\n",
    "                    train_labels,\n",
    "                    epochs=20,\n",
    "                    callbacks=callbacks,\n",
    "                    batch_size=8,\n",
    "                    validation_data=(val_data, val_labels))"
   ]
  },
  {
   "cell_type": "code",
   "execution_count": 28,
   "metadata": {},
   "outputs": [
    {
     "name": "stdout",
     "output_type": "stream",
     "text": [
      "             acc    val_acc        loss   val_loss\n",
      "count  20.000000  20.000000   20.000000  20.000000\n",
      "mean    0.215000   0.012500   16.879250  17.581182\n",
      "std     0.138697   0.055902   33.598781   6.709266\n",
      "min     0.000000   0.000000    3.140497   9.577233\n",
      "25%     0.100000   0.000000    4.182046  13.042099\n",
      "50%     0.200000   0.000000    6.406784  15.314872\n",
      "75%     0.300000   0.000000   13.174503  19.392261\n",
      "max     0.500000   0.250000  156.177879  32.388760\n"
     ]
    },
    {
     "data": {
      "text/plain": [
       "<matplotlib.axes._subplots.AxesSubplot at 0x1228e9438>"
      ]
     },
     "execution_count": 28,
     "metadata": {},
     "output_type": "execute_result"
    },
    {
     "data": {
      "image/png": "[encoded data removed]",
      "text/plain": [
       "<Figure size 432x288 with 1 Axes>"
      ]
     },
     "metadata": {},
     "output_type": "display_data"
    },
    {
     "data": {
      "image/png": "[encoded data removed]",
      "text/plain": [
       "<Figure size 432x288 with 1 Axes>"
      ]
     },
     "metadata": {},
     "output_type": "display_data"
    },
    {
     "data": {
      "image/png": "[encoded data removed]",
      "text/plain": [
       "<Figure size 432x288 with 1 Axes>"
      ]
     },
     "metadata": {},
     "output_type": "display_data"
    },
    {
     "data": {
      "image/png": "[encoded data removed]",
      "text/plain": [
       "<Figure size 432x288 with 1 Axes>"
      ]
     },
     "metadata": {},
     "output_type": "display_data"
    }
   ],
   "source": [
    "history_df = pd.DataFrame(\n",
    "    {'acc': history.history['acc'],\n",
    "     'val_acc': history.history['val_acc'],\n",
    "     'loss': history.history['loss'],\n",
    "     'val_loss': history.history['val_loss']\n",
    "    })\n",
    "\n",
    "print(history_df.describe())\n",
    "\n",
    "history_df[['acc', 'val_acc']].plot(title='Full accuracy')\n",
    "history_df[['loss', 'val_loss']].plot(title='Full loss')\n",
    "history_df[['acc', 'val_acc']][-50:].plot(title='Last 50 epochs accuracy')\n",
    "history_df[['loss', 'val_loss']][-50:].plot(title='Last 50 epochs loss')"
   ]
  },
  {
   "cell_type": "code",
   "execution_count": 29,
   "metadata": {},
   "outputs": [],
   "source": [
    "best_model = keras.models.load_model(PATH_TO_BEST_MODEL)"
   ]
  },
  {
   "cell_type": "code",
   "execution_count": 30,
   "metadata": {},
   "outputs": [
    {
     "name": "stdout",
     "output_type": "stream",
     "text": [
      "\r",
      "4/4 [==============================] - 0s 76ms/step\n"
     ]
    },
    {
     "data": {
      "text/plain": [
       "[9.57723331451416, 0.0]"
      ]
     },
     "execution_count": 30,
     "metadata": {},
     "output_type": "execute_result"
    }
   ],
   "source": [
    "best_model.evaluate(val_data, val_labels)"
   ]
  },
  {
   "cell_type": "code",
   "execution_count": 33,
   "metadata": {},
   "outputs": [
    {
     "name": "stdout",
     "output_type": "stream",
     "text": [
      "Predicted data:\n"
     ]
    },
    {
     "data": {
      "text/plain": [
       "array([[15.769755],\n",
       "       [11.882329],\n",
       "       [19.056707],\n",
       "       [ 8.24105 ]], dtype=float32)"
      ]
     },
     "execution_count": 33,
     "metadata": {},
     "output_type": "execute_result"
    }
   ],
   "source": [
    "print('Predicted data:')\n",
    "model.predict(val_data)"
   ]
  },
  {
   "cell_type": "code",
   "execution_count": 34,
   "metadata": {},
   "outputs": [
    {
     "name": "stdout",
     "output_type": "stream",
     "text": [
      "Real data:\n"
     ]
    },
    {
     "data": {
      "text/plain": [
       "array([20, 11, 14,  5])"
      ]
     },
     "execution_count": 34,
     "metadata": {},
     "output_type": "execute_result"
    }
   ],
   "source": [
    "print('Real data:')\n",
    "val_labels"
   ]
  },
  {
   "cell_type": "code",
   "execution_count": null,
   "metadata": {},
   "outputs": [],
   "source": []
  }
 ],
 "metadata": {
  "kernelspec": {
   "display_name": "Python 3",
   "language": "python",
   "name": "python3"
  },
  "language_info": {
   "codemirror_mode": {
    "name": "ipython",
    "version": 3
   },
   "file_extension": ".py",
   "mimetype": "text/x-python",
   "name": "python",
   "nbconvert_exporter": "python",
   "pygments_lexer": "ipython3",
   "version": "3.6.5"
  }
 },
 "nbformat": 4,
 "nbformat_minor": 2
}
