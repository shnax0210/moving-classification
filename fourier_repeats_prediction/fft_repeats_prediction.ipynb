{
 "cells": [
  {
   "cell_type": "code",
   "execution_count": 1,
   "metadata": {},
   "outputs": [],
   "source": [
    "%matplotlib inline\n",
    "\n",
    "import pandas as pd\n",
    "import matplotlib.pyplot as plt\n",
    "import numpy as np"
   ]
  },
  {
   "cell_type": "code",
   "execution_count": 2,
   "metadata": {},
   "outputs": [],
   "source": [
    "CSV_FILE_PATH = '../merged_gyroscope_data.csv'\n",
    "data = pd.read_csv(CSV_FILE_PATH)"
   ]
  },
  {
   "cell_type": "code",
   "execution_count": 3,
   "metadata": {},
   "outputs": [],
   "source": [
    "def find_ids_of_activities(df):\n",
    "    ids_of_activities = []\n",
    "    id_of_activity = 0\n",
    "    previous_activity = ''\n",
    "    \n",
    "    for index, row in df.iterrows():\n",
    "        if previous_activity != row['activity_type']:\n",
    "            id_of_activity = id_of_activity + 1\n",
    "            previous_activity = row['activity_type']\n",
    "        ids_of_activities.append(id_of_activity)\n",
    "        \n",
    "    return ids_of_activities\n",
    "\n",
    "data['activity_id'] = find_ids_of_activities(data);\n",
    "data = data[data['activity_type'] != 'pause'];"
   ]
  },
  {
   "cell_type": "code",
   "execution_count": 4,
   "metadata": {},
   "outputs": [
    {
     "data": {
      "text/plain": [
       "array([ 2,  4,  6,  8, 10, 12, 14, 16, 18, 20, 22, 24, 26, 28, 30, 32, 34,\n",
       "       36, 38, 40, 42, 44, 46, 48, 50, 52, 54, 56, 58, 60, 62, 64, 66, 68,\n",
       "       70, 72, 74, 75, 77, 79, 81, 83, 84, 85], dtype=int64)"
      ]
     },
     "execution_count": 4,
     "metadata": {},
     "output_type": "execute_result"
    }
   ],
   "source": [
    "data['activity_id'].unique()"
   ]
  },
  {
   "cell_type": "code",
   "execution_count": 8,
   "metadata": {},
   "outputs": [
    {
     "name": "stdout",
     "output_type": "stream",
     "text": [
      "predicted / actual - 13 / 14\n",
      "predicted / actual - 11 / 14\n",
      "predicted / actual - 14 / 14\n",
      "predicted / actual - 13 / 14\n",
      "predicted / actual - 15 / 14\n",
      "predicted / actual - 15 / 14\n",
      "predicted / actual - 13 / 14\n",
      "predicted / actual - 6 / 14\n",
      "predicted / actual - 13 / 14\n",
      "predicted / actual - 9 / 10\n",
      "predicted / actual - 9 / 10\n",
      "predicted / actual - 8 / 10\n",
      "predicted / actual - 10 / 10\n",
      "predicted / actual - 20 / 10\n",
      "predicted / actual - 10 / 10\n",
      "predicted / actual - 9 / 10\n",
      "predicted / actual - 9 / 10\n",
      "predicted / actual - 9 / 10\n",
      "predicted / actual - 18 / 20\n",
      "predicted / actual - 14 / 20\n",
      "predicted / actual - 17 / 20\n",
      "predicted / actual - 6 / 20\n",
      "predicted / actual - 10 / 20\n",
      "predicted / actual - 19 / 20\n",
      "predicted / actual - 19 / 20\n",
      "predicted / actual - 19 / 20\n",
      "predicted / actual - 21 / 20\n",
      "predicted / actual - 10 / 11\n",
      "predicted / actual - 10 / 11\n",
      "predicted / actual - 10 / 11\n",
      "predicted / actual - 9 / 11\n",
      "predicted / actual - 11 / 11\n",
      "predicted / actual - 11 / 11\n",
      "predicted / actual - 10 / 11\n",
      "predicted / actual - 10 / 11\n",
      "predicted / actual - 9 / 11\n",
      "predicted / actual - 6 / 12\n",
      "predicted / actual - 10 / 12\n",
      "predicted / actual - 8 / 12\n",
      "predicted / actual - 15 / 14\n",
      "predicted / actual - 14 / 14\n",
      "predicted / actual - 1 / 5\n",
      "predicted / actual - 2 / 5\n",
      "predicted / actual - 6 / 5\n",
      "MSE = 2.34090909091\n"
     ]
    }
   ],
   "source": [
    "def process_fft_result(fft_result):\n",
    "    magnitudes = np.abs(fft_result);\n",
    "    magnitudes = np.sum(magnitudes, 1);\n",
    "    magnitudes = magnitudes * 2 / magnitudes.shape[0];\n",
    "    magnitudes = np.array_split(magnitudes,2)[0];\n",
    "    magnitudes = magnitudes[1:];\n",
    "    return magnitudes;\n",
    "\n",
    "def calculate_number_of_repeats(df):\n",
    "    input = df[['y_axis', 'z_axis', 'ay_axis']]\n",
    "    fft_result = np.fft.fftn(input, s=None, axes=None, norm=None);\n",
    "    magnitudes = process_fft_result(fft_result);\n",
    "    max = magnitudes.max();\n",
    "    threshold = max / 1.45;\n",
    "    top_frequencies = np.argwhere(magnitudes > threshold);\n",
    "    predicted = top_frequencies.min();\n",
    "    return predicted\n",
    "\n",
    "error = 0\n",
    "for id in data['activity_id'].unique() :\n",
    "    df = data[data['activity_id'] == id];\n",
    "    predicted = calculate_number_of_repeats(df);\n",
    "    actual = df['number_of_repeats'].unique()[0];\n",
    "    error = error + np.abs(predicted - actual);\n",
    "    print(\"predicted / actual - %s / %s\" % (predicted,actual));\n",
    "    \n",
    "print(\"MSE = %s\" % (error / data['activity_id'].unique().shape[0]));"
   ]
  }
 ],
 "metadata": {
  "kernelspec": {
   "display_name": "Python 3",
   "language": "python",
   "name": "python3"
  },
  "language_info": {
   "codemirror_mode": {
    "name": "ipython",
    "version": 3
   },
   "file_extension": ".py",
   "mimetype": "text/x-python",
   "name": "python",
   "nbconvert_exporter": "python",
   "pygments_lexer": "ipython3",
   "version": "3.6.5"
  }
 },
 "nbformat": 4,
 "nbformat_minor": 2
}
