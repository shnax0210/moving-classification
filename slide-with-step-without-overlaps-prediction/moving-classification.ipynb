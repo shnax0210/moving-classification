{
 "cells": [
  {
   "cell_type": "code",
   "execution_count": 1,
   "metadata": {},
   "outputs": [
    {
     "name": "stderr",
     "output_type": "stream",
     "text": [
      "Using TensorFlow backend.\n"
     ]
    },
    {
     "data": {
      "text/plain": [
       "'2.2.0'"
      ]
     },
     "execution_count": 1,
     "metadata": {},
     "output_type": "execute_result"
    }
   ],
   "source": [
    "import keras\n",
    "keras.__version__"
   ]
  },
  {
   "cell_type": "code",
   "execution_count": 2,
   "metadata": {},
   "outputs": [],
   "source": [
    "import pandas as pd\n",
    "import numpy as np\n",
    "from sklearn.preprocessing import LabelBinarizer\n",
    "\n",
    "MEASUREMENTS_PER_SAMPLE = 100\n",
    "SAMPLE_STEP = 5\n",
    "MEASUREMENTS_IN_SHUFFLE_GROUP = 300\n",
    "CSV_FILE_PATH = '../gyroscope_data_updated.csv'\n",
    "\n",
    "df = pd.read_csv(CSV_FILE_PATH)"
   ]
  },
  {
   "cell_type": "code",
   "execution_count": 3,
   "metadata": {},
   "outputs": [
    {
     "name": "stdout",
     "output_type": "stream",
     "text": [
      "(45360, 7)\n",
      "(15120, 7)\n",
      "(15120, 7)\n"
     ]
    }
   ],
   "source": [
    "train_part_in_percents = 0.6\n",
    "val_part_in_percents = 0.2\n",
    "test_part_in_percents = 0.2\n",
    "\n",
    "def split(samples, train_part_in_percents, val_part_in_percents, test_part_in_percents):\n",
    "    train_part_end = int(train_part_in_percents * samples.shape[0])\n",
    "    val_part_end = train_part_end + int(val_part_in_percents * samples.shape[0])\n",
    "    test_part_end = val_part_end + int(test_part_in_percents * samples.shape[0])\n",
    "\n",
    "    train_data = samples[0:train_part_end]\n",
    "    val_data = samples[train_part_end:val_part_end]\n",
    "    test_data = samples[val_part_end:test_part_end]\n",
    "    \n",
    "    return train_data, val_data, test_data\n",
    "\n",
    "train_data_array = []\n",
    "val_data_array = []\n",
    "test_data_array = []\n",
    "\n",
    "def shuffle_groups(l_df):\n",
    "    number_of_groups = l_df.shape[0] // MEASUREMENTS_IN_SHUFFLE_GROUP \n",
    "    size_of_new_df = number_of_groups * MEASUREMENTS_IN_SHUFFLE_GROUP\n",
    "    \n",
    "    l_df = l_df[0: size_of_new_df]\n",
    "\n",
    "    groups = l_df.values.reshape((number_of_groups, MEASUREMENTS_IN_SHUFFLE_GROUP, l_df.shape[-1]))\n",
    "    \n",
    "    randomize = np.arange(number_of_groups)\n",
    "    np.random.shuffle(randomize)\n",
    "    groups = groups[randomize]\n",
    "    \n",
    "    return pd.DataFrame(groups.reshape((size_of_new_df, l_df.shape[-1])), columns=l_df.columns)\n",
    "    \n",
    "\n",
    "for label in df['activity_type'].unique():\n",
    "    l_df = df[df['activity_type'] == label]\n",
    "    \n",
    "    train_data, val_data, test_data = split(shuffle_groups(l_df), 0.6, 0.2, 0.2)\n",
    "    \n",
    "    train_data_array.append(train_data)\n",
    "    val_data_array.append(val_data)\n",
    "    test_data_array.append(test_data)\n",
    "\n",
    "train_df = pd.concat(train_data_array)\n",
    "val_df = pd.concat(val_data_array)\n",
    "test_df = pd.concat(test_data_array)\n",
    "\n",
    "print(train_df.shape)\n",
    "print(val_df.shape)\n",
    "print(test_df.shape)"
   ]
  },
  {
   "cell_type": "code",
   "execution_count": 4,
   "metadata": {},
   "outputs": [
    {
     "name": "stdout",
     "output_type": "stream",
     "text": [
      "(8972, 100, 6)\n",
      "(8972, 5)\n",
      "(2924, 100, 6)\n",
      "(2924, 5)\n",
      "(2924, 100, 6)\n",
      "(2924, 5)\n"
     ]
    }
   ],
   "source": [
    "def preparaSamplesAndTargets(df):\n",
    "    targets_and_samples = []\n",
    "\n",
    "    def prepareForOneLabel(label, df):\n",
    "        l_df = df[df['activity_type'] == label]\n",
    "        l_df = l_df[l_df.columns[0:-1]]\n",
    "        samples_number = (l_df.shape[0] - MEASUREMENTS_PER_SAMPLE) // SAMPLE_STEP\n",
    "    \n",
    "        def getSample(sample_index):\n",
    "            sample_start_index = sample_index * SAMPLE_STEP\n",
    "            sample_end_index = (sample_index * SAMPLE_STEP) + MEASUREMENTS_PER_SAMPLE\n",
    "        \n",
    "            return l_df[sample_start_index:sample_end_index].values.reshape(1, MEASUREMENTS_PER_SAMPLE, 6)\n",
    "    \n",
    "        return [[label, getSample(sample_index)] for sample_index in range(samples_number)]\n",
    "\n",
    "    for label in df['activity_type'].unique():\n",
    "        targets_and_samples.extend(prepareForOneLabel(label, df))\n",
    "\n",
    "    samples = np.concatenate([ts[1] for ts in targets_and_samples])\n",
    "    targets = LabelBinarizer().fit_transform(np.array([ts[0] for ts in targets_and_samples]))\n",
    "    \n",
    "    return samples, targets\n",
    "\n",
    "train_data, train_labels = preparaSamplesAndTargets(train_df)\n",
    "val_data, val_labels = preparaSamplesAndTargets(val_df)\n",
    "test_data, test_labels = preparaSamplesAndTargets(test_df)\n",
    "\n",
    "print(train_data.shape)\n",
    "print(train_labels.shape)\n",
    "\n",
    "print(val_data.shape)\n",
    "print(val_labels.shape)\n",
    "\n",
    "print(test_data.shape)\n",
    "print(test_labels.shape)"
   ]
  },
  {
   "cell_type": "code",
   "execution_count": 5,
   "metadata": {},
   "outputs": [],
   "source": [
    "def shuffleSamplesAndTargets(samples, targets):\n",
    "    randomize = np.arange(samples.shape[0])\n",
    "    np.random.shuffle(randomize)\n",
    "    samples = samples[randomize]\n",
    "    targets = targets[randomize]\n",
    "    \n",
    "    return samples, targets\n",
    "\n",
    "train_data, train_labels = shuffleSamplesAndTargets(train_data, train_labels)"
   ]
  },
  {
   "cell_type": "code",
   "execution_count": 6,
   "metadata": {},
   "outputs": [],
   "source": [
    "from keras import models\n",
    "from keras import layers\n",
    "\n",
    "model = models.Sequential()\n",
    "model.add(layers.Conv1D(32, 3, activation='relu',\n",
    "                        input_shape=(None, train_data.shape[-1])))\n",
    "model.add(layers.MaxPooling1D(2))\n",
    "model.add(layers.Conv1D(32, 3, activation='relu'))\n",
    "model.add(layers.GlobalMaxPooling1D())\n",
    "model.add(layers.Dropout(0.35))\n",
    "model.add(layers.Dense(16, activation='relu'))\n",
    "model.add(layers.Dense(test_labels.shape[-1], activation='softmax'))"
   ]
  },
  {
   "cell_type": "code",
   "execution_count": 7,
   "metadata": {},
   "outputs": [],
   "source": [
    "from keras import optimizers\n",
    "\n",
    "model.compile(optimizer=optimizers.RMSprop(lr=0.0005),\n",
    "              loss='mse',\n",
    "              metrics=['accuracy'])"
   ]
  },
  {
   "cell_type": "code",
   "execution_count": 8,
   "metadata": {},
   "outputs": [
    {
     "name": "stdout",
     "output_type": "stream",
     "text": [
      "Train on 8972 samples, validate on 2924 samples\n",
      "Epoch 1/100\n",
      "8972/8972 [==============================] - 1s 164us/step - loss: 0.2141 - acc: 0.4403 - val_loss: 0.1418 - val_acc: 0.6279\n",
      "Epoch 2/100\n",
      "8972/8972 [==============================] - 1s 138us/step - loss: 0.1745 - acc: 0.5458 - val_loss: 0.1478 - val_acc: 0.6176\n",
      "Epoch 3/100\n",
      "8972/8972 [==============================] - 1s 139us/step - loss: 0.1636 - acc: 0.5760 - val_loss: 0.1399 - val_acc: 0.6330\n",
      "Epoch 4/100\n",
      "8972/8972 [==============================] - 1s 141us/step - loss: 0.1547 - acc: 0.5918 - val_loss: 0.1358 - val_acc: 0.6385\n",
      "Epoch 5/100\n",
      "8972/8972 [==============================] - 1s 142us/step - loss: 0.1479 - acc: 0.6061 - val_loss: 0.1307 - val_acc: 0.6457\n",
      "Epoch 6/100\n",
      "8972/8972 [==============================] - 1s 145us/step - loss: 0.1376 - acc: 0.6116 - val_loss: 0.1171 - val_acc: 0.6498\n",
      "Epoch 7/100\n",
      "8972/8972 [==============================] - 1s 140us/step - loss: 0.1251 - acc: 0.6171 - val_loss: 0.0990 - val_acc: 0.6590\n",
      "Epoch 8/100\n",
      "8972/8972 [==============================] - 1s 147us/step - loss: 0.1082 - acc: 0.6322 - val_loss: 0.0844 - val_acc: 0.7096\n",
      "Epoch 9/100\n",
      "8972/8972 [==============================] - 1s 160us/step - loss: 0.0909 - acc: 0.6760 - val_loss: 0.0743 - val_acc: 0.7633\n",
      "Epoch 10/100\n",
      "8972/8972 [==============================] - 1s 131us/step - loss: 0.0809 - acc: 0.7112 - val_loss: 0.0599 - val_acc: 0.8222\n",
      "Epoch 11/100\n",
      "8972/8972 [==============================] - 1s 132us/step - loss: 0.0712 - acc: 0.7570 - val_loss: 0.0535 - val_acc: 0.8369\n",
      "Epoch 12/100\n",
      "8972/8972 [==============================] - 1s 139us/step - loss: 0.0601 - acc: 0.7956 - val_loss: 0.0509 - val_acc: 0.8505\n",
      "Epoch 13/100\n",
      "8972/8972 [==============================] - 1s 139us/step - loss: 0.0526 - acc: 0.8257 - val_loss: 0.0502 - val_acc: 0.8543\n",
      "Epoch 14/100\n",
      "8972/8972 [==============================] - 1s 137us/step - loss: 0.0460 - acc: 0.8525 - val_loss: 0.0455 - val_acc: 0.8704\n",
      "Epoch 15/100\n",
      "8972/8972 [==============================] - 1s 133us/step - loss: 0.0416 - acc: 0.8661 - val_loss: 0.0472 - val_acc: 0.8690\n",
      "Epoch 16/100\n",
      "8972/8972 [==============================] - 1s 131us/step - loss: 0.0394 - acc: 0.8751 - val_loss: 0.0385 - val_acc: 0.8926\n",
      "Epoch 17/100\n",
      "8972/8972 [==============================] - 1s 157us/step - loss: 0.0354 - acc: 0.8885 - val_loss: 0.0422 - val_acc: 0.8796\n",
      "Epoch 18/100\n",
      "8972/8972 [==============================] - 1s 133us/step - loss: 0.0339 - acc: 0.8960 - val_loss: 0.0372 - val_acc: 0.8930\n",
      "Epoch 19/100\n",
      "8972/8972 [==============================] - 1s 133us/step - loss: 0.0327 - acc: 0.8996 - val_loss: 0.0385 - val_acc: 0.8895\n",
      "Epoch 20/100\n",
      "8972/8972 [==============================] - 1s 134us/step - loss: 0.0302 - acc: 0.9059 - val_loss: 0.0360 - val_acc: 0.8940\n",
      "Epoch 21/100\n",
      "8972/8972 [==============================] - 1s 134us/step - loss: 0.0289 - acc: 0.9113 - val_loss: 0.0357 - val_acc: 0.8960\n",
      "Epoch 22/100\n",
      "8972/8972 [==============================] - 1s 134us/step - loss: 0.0272 - acc: 0.9162 - val_loss: 0.0342 - val_acc: 0.8988\n",
      "Epoch 23/100\n",
      "8972/8972 [==============================] - 1s 133us/step - loss: 0.0259 - acc: 0.9221 - val_loss: 0.0365 - val_acc: 0.8912\n",
      "Epoch 24/100\n",
      "8972/8972 [==============================] - 1s 135us/step - loss: 0.0251 - acc: 0.9247 - val_loss: 0.0368 - val_acc: 0.8878\n",
      "Epoch 25/100\n",
      "8972/8972 [==============================] - 1s 133us/step - loss: 0.0251 - acc: 0.9239 - val_loss: 0.0311 - val_acc: 0.9083\n",
      "Epoch 26/100\n",
      "8972/8972 [==============================] - 1s 135us/step - loss: 0.0229 - acc: 0.9306 - val_loss: 0.0325 - val_acc: 0.9029\n",
      "Epoch 27/100\n",
      "8972/8972 [==============================] - 1s 132us/step - loss: 0.0215 - acc: 0.9374 - val_loss: 0.0311 - val_acc: 0.9097\n",
      "Epoch 28/100\n",
      "8972/8972 [==============================] - 1s 134us/step - loss: 0.0221 - acc: 0.9327 - val_loss: 0.0325 - val_acc: 0.9053\n",
      "Epoch 29/100\n",
      "8972/8972 [==============================] - 1s 135us/step - loss: 0.0204 - acc: 0.9386 - val_loss: 0.0305 - val_acc: 0.9155\n",
      "Epoch 30/100\n",
      "8972/8972 [==============================] - 1s 135us/step - loss: 0.0201 - acc: 0.9399 - val_loss: 0.0323 - val_acc: 0.9083\n",
      "Epoch 31/100\n",
      "8972/8972 [==============================] - 1s 134us/step - loss: 0.0187 - acc: 0.9446 - val_loss: 0.0306 - val_acc: 0.9114\n",
      "Epoch 32/100\n",
      "8972/8972 [==============================] - 1s 135us/step - loss: 0.0178 - acc: 0.9456 - val_loss: 0.0356 - val_acc: 0.8984\n",
      "Epoch 33/100\n",
      "8972/8972 [==============================] - 1s 132us/step - loss: 0.0189 - acc: 0.9443 - val_loss: 0.0337 - val_acc: 0.9029\n",
      "Epoch 34/100\n",
      "8972/8972 [==============================] - 1s 146us/step - loss: 0.0175 - acc: 0.9473 - val_loss: 0.0359 - val_acc: 0.8933\n",
      "Epoch 35/100\n",
      "8972/8972 [==============================] - 1s 156us/step - loss: 0.0162 - acc: 0.9492 - val_loss: 0.0375 - val_acc: 0.8902\n",
      "Epoch 36/100\n",
      "8972/8972 [==============================] - 1s 154us/step - loss: 0.0169 - acc: 0.9488 - val_loss: 0.0306 - val_acc: 0.9097\n",
      "Epoch 37/100\n",
      "8972/8972 [==============================] - 1s 152us/step - loss: 0.0151 - acc: 0.9559 - val_loss: 0.0306 - val_acc: 0.9073\n",
      "Epoch 38/100\n",
      "8972/8972 [==============================] - 1s 156us/step - loss: 0.0158 - acc: 0.9510 - val_loss: 0.0290 - val_acc: 0.9138\n",
      "Epoch 39/100\n",
      "8972/8972 [==============================] - 1s 158us/step - loss: 0.0141 - acc: 0.9597 - val_loss: 0.0265 - val_acc: 0.9234\n",
      "Epoch 40/100\n",
      "8972/8972 [==============================] - 1s 141us/step - loss: 0.0154 - acc: 0.9535 - val_loss: 0.0285 - val_acc: 0.9162\n",
      "Epoch 41/100\n",
      "8972/8972 [==============================] - 1s 136us/step - loss: 0.0153 - acc: 0.9543 - val_loss: 0.0339 - val_acc: 0.9025\n",
      "Epoch 42/100\n",
      "8972/8972 [==============================] - 1s 145us/step - loss: 0.0133 - acc: 0.9600 - val_loss: 0.0264 - val_acc: 0.9254\n",
      "Epoch 43/100\n",
      "8972/8972 [==============================] - 1s 133us/step - loss: 0.0136 - acc: 0.9595 - val_loss: 0.0281 - val_acc: 0.9155\n",
      "Epoch 44/100\n",
      "8972/8972 [==============================] - 1s 134us/step - loss: 0.0132 - acc: 0.9597 - val_loss: 0.0308 - val_acc: 0.9121\n",
      "Epoch 45/100\n",
      "8972/8972 [==============================] - 1s 137us/step - loss: 0.0122 - acc: 0.9646 - val_loss: 0.0269 - val_acc: 0.9224\n",
      "Epoch 46/100\n",
      "8972/8972 [==============================] - 1s 147us/step - loss: 0.0124 - acc: 0.9632 - val_loss: 0.0284 - val_acc: 0.9142\n",
      "Epoch 47/100\n",
      "8972/8972 [==============================] - 1s 135us/step - loss: 0.0126 - acc: 0.9615 - val_loss: 0.0283 - val_acc: 0.9152\n",
      "Epoch 48/100\n",
      "8972/8972 [==============================] - 1s 135us/step - loss: 0.0118 - acc: 0.9640 - val_loss: 0.0282 - val_acc: 0.9138\n",
      "Epoch 49/100\n",
      "8972/8972 [==============================] - 1s 136us/step - loss: 0.0117 - acc: 0.9641 - val_loss: 0.0319 - val_acc: 0.9077\n",
      "Epoch 50/100\n",
      "8972/8972 [==============================] - 1s 134us/step - loss: 0.0111 - acc: 0.9660 - val_loss: 0.0291 - val_acc: 0.9128\n",
      "Epoch 51/100\n",
      "8972/8972 [==============================] - 1s 137us/step - loss: 0.0115 - acc: 0.9648 - val_loss: 0.0327 - val_acc: 0.9046\n",
      "Epoch 52/100\n",
      "8972/8972 [==============================] - 1s 133us/step - loss: 0.0109 - acc: 0.9671 - val_loss: 0.0274 - val_acc: 0.9217\n",
      "Epoch 53/100\n",
      "8972/8972 [==============================] - 1s 138us/step - loss: 0.0105 - acc: 0.9678 - val_loss: 0.0304 - val_acc: 0.9114\n",
      "Epoch 54/100\n",
      "8972/8972 [==============================] - 1s 133us/step - loss: 0.0101 - acc: 0.9699 - val_loss: 0.0302 - val_acc: 0.9135\n",
      "Epoch 55/100\n",
      "8972/8972 [==============================] - 1s 136us/step - loss: 0.0092 - acc: 0.9736 - val_loss: 0.0271 - val_acc: 0.9203\n",
      "Epoch 56/100\n",
      "8972/8972 [==============================] - 1s 139us/step - loss: 0.0098 - acc: 0.9700 - val_loss: 0.0274 - val_acc: 0.9200\n",
      "Epoch 57/100\n",
      "8972/8972 [==============================] - 1s 133us/step - loss: 0.0097 - acc: 0.9715 - val_loss: 0.0302 - val_acc: 0.9101\n",
      "Epoch 58/100\n",
      "8972/8972 [==============================] - 1s 134us/step - loss: 0.0090 - acc: 0.9730 - val_loss: 0.0298 - val_acc: 0.9118\n",
      "Epoch 59/100\n",
      "8972/8972 [==============================] - 1s 133us/step - loss: 0.0092 - acc: 0.9721 - val_loss: 0.0264 - val_acc: 0.9193\n",
      "Epoch 60/100\n"
     ]
    },
    {
     "name": "stdout",
     "output_type": "stream",
     "text": [
      "8972/8972 [==============================] - 1s 137us/step - loss: 0.0085 - acc: 0.9744 - val_loss: 0.0258 - val_acc: 0.9244\n",
      "Epoch 61/100\n",
      "8972/8972 [==============================] - 1s 134us/step - loss: 0.0095 - acc: 0.9711 - val_loss: 0.0287 - val_acc: 0.9138\n",
      "Epoch 62/100\n",
      "8972/8972 [==============================] - 1s 132us/step - loss: 0.0082 - acc: 0.9758 - val_loss: 0.0305 - val_acc: 0.9148\n",
      "Epoch 63/100\n",
      "8972/8972 [==============================] - 1s 139us/step - loss: 0.0093 - acc: 0.9726 - val_loss: 0.0284 - val_acc: 0.9183\n",
      "Epoch 64/100\n",
      "8972/8972 [==============================] - 1s 139us/step - loss: 0.0092 - acc: 0.9720 - val_loss: 0.0292 - val_acc: 0.9124\n",
      "Epoch 65/100\n",
      "8972/8972 [==============================] - 1s 131us/step - loss: 0.0083 - acc: 0.9747 - val_loss: 0.0260 - val_acc: 0.9220\n",
      "Epoch 66/100\n",
      "8972/8972 [==============================] - 1s 132us/step - loss: 0.0078 - acc: 0.9773 - val_loss: 0.0283 - val_acc: 0.9131\n",
      "Epoch 67/100\n",
      "8972/8972 [==============================] - 1s 131us/step - loss: 0.0079 - acc: 0.9758 - val_loss: 0.0302 - val_acc: 0.9111\n",
      "Epoch 68/100\n",
      "8972/8972 [==============================] - 1s 132us/step - loss: 0.0086 - acc: 0.9743 - val_loss: 0.0286 - val_acc: 0.9124\n",
      "Epoch 69/100\n",
      "8972/8972 [==============================] - 1s 130us/step - loss: 0.0080 - acc: 0.9765 - val_loss: 0.0250 - val_acc: 0.9231\n",
      "Epoch 70/100\n",
      "8972/8972 [==============================] - 1s 132us/step - loss: 0.0073 - acc: 0.9785 - val_loss: 0.0263 - val_acc: 0.9217\n",
      "Epoch 71/100\n",
      "8972/8972 [==============================] - 1s 130us/step - loss: 0.0078 - acc: 0.9766 - val_loss: 0.0293 - val_acc: 0.9145\n",
      "Epoch 72/100\n",
      "8972/8972 [==============================] - 1s 131us/step - loss: 0.0075 - acc: 0.9767 - val_loss: 0.0254 - val_acc: 0.9248\n",
      "Epoch 73/100\n",
      "8972/8972 [==============================] - 1s 130us/step - loss: 0.0073 - acc: 0.9780 - val_loss: 0.0293 - val_acc: 0.9145\n",
      "Epoch 74/100\n",
      "8972/8972 [==============================] - 1s 130us/step - loss: 0.0081 - acc: 0.9750 - val_loss: 0.0262 - val_acc: 0.9244\n",
      "Epoch 75/100\n",
      "8972/8972 [==============================] - 1s 132us/step - loss: 0.0073 - acc: 0.9784 - val_loss: 0.0254 - val_acc: 0.9272\n",
      "Epoch 76/100\n",
      "8972/8972 [==============================] - 1s 133us/step - loss: 0.0075 - acc: 0.9761 - val_loss: 0.0301 - val_acc: 0.9142\n",
      "Epoch 77/100\n",
      "8972/8972 [==============================] - 1s 137us/step - loss: 0.0069 - acc: 0.9800 - val_loss: 0.0240 - val_acc: 0.9285\n",
      "Epoch 78/100\n",
      "8972/8972 [==============================] - 1s 135us/step - loss: 0.0071 - acc: 0.9783 - val_loss: 0.0271 - val_acc: 0.9207\n",
      "Epoch 79/100\n",
      "8972/8972 [==============================] - 1s 132us/step - loss: 0.0070 - acc: 0.9797 - val_loss: 0.0294 - val_acc: 0.9172\n",
      "Epoch 80/100\n",
      "8972/8972 [==============================] - 1s 131us/step - loss: 0.0070 - acc: 0.9792 - val_loss: 0.0277 - val_acc: 0.9234\n",
      "Epoch 81/100\n",
      "8972/8972 [==============================] - 1s 133us/step - loss: 0.0069 - acc: 0.9798 - val_loss: 0.0266 - val_acc: 0.9234\n",
      "Epoch 82/100\n",
      "8972/8972 [==============================] - 1s 133us/step - loss: 0.0065 - acc: 0.9800 - val_loss: 0.0278 - val_acc: 0.9224\n",
      "Epoch 83/100\n",
      "8972/8972 [==============================] - 1s 139us/step - loss: 0.0068 - acc: 0.9788 - val_loss: 0.0292 - val_acc: 0.9135\n",
      "Epoch 84/100\n",
      "8972/8972 [==============================] - 1s 134us/step - loss: 0.0066 - acc: 0.9800 - val_loss: 0.0301 - val_acc: 0.9135\n",
      "Epoch 85/100\n",
      "8972/8972 [==============================] - 1s 135us/step - loss: 0.0064 - acc: 0.9817 - val_loss: 0.0241 - val_acc: 0.9306\n",
      "Epoch 86/100\n",
      "8972/8972 [==============================] - 1s 136us/step - loss: 0.0066 - acc: 0.9802 - val_loss: 0.0220 - val_acc: 0.9364\n",
      "Epoch 87/100\n",
      "8972/8972 [==============================] - 1s 142us/step - loss: 0.0063 - acc: 0.9808 - val_loss: 0.0257 - val_acc: 0.9295\n",
      "Epoch 88/100\n",
      "8972/8972 [==============================] - 1s 135us/step - loss: 0.0068 - acc: 0.9800 - val_loss: 0.0275 - val_acc: 0.9207\n",
      "Epoch 89/100\n",
      "8972/8972 [==============================] - 1s 133us/step - loss: 0.0066 - acc: 0.9806 - val_loss: 0.0235 - val_acc: 0.9306\n",
      "Epoch 90/100\n",
      "8972/8972 [==============================] - 1s 133us/step - loss: 0.0068 - acc: 0.9799 - val_loss: 0.0303 - val_acc: 0.9142\n",
      "Epoch 91/100\n",
      "8972/8972 [==============================] - 1s 129us/step - loss: 0.0062 - acc: 0.9816 - val_loss: 0.0324 - val_acc: 0.9118\n",
      "Epoch 92/100\n",
      "8972/8972 [==============================] - 1s 131us/step - loss: 0.0062 - acc: 0.9811 - val_loss: 0.0226 - val_acc: 0.9340\n",
      "Epoch 93/100\n",
      "8972/8972 [==============================] - 1s 130us/step - loss: 0.0064 - acc: 0.9806 - val_loss: 0.0268 - val_acc: 0.9244\n",
      "Epoch 94/100\n",
      "8972/8972 [==============================] - 1s 127us/step - loss: 0.0062 - acc: 0.9812 - val_loss: 0.0256 - val_acc: 0.9265\n",
      "Epoch 95/100\n",
      "8972/8972 [==============================] - 1s 132us/step - loss: 0.0063 - acc: 0.9797 - val_loss: 0.0240 - val_acc: 0.9337\n",
      "Epoch 96/100\n",
      "8972/8972 [==============================] - 1s 130us/step - loss: 0.0061 - acc: 0.9819 - val_loss: 0.0256 - val_acc: 0.9272\n",
      "Epoch 97/100\n",
      "8972/8972 [==============================] - 1s 130us/step - loss: 0.0058 - acc: 0.9826 - val_loss: 0.0211 - val_acc: 0.9402\n",
      "Epoch 98/100\n",
      "8972/8972 [==============================] - 1s 130us/step - loss: 0.0060 - acc: 0.9825 - val_loss: 0.0246 - val_acc: 0.9306\n",
      "Epoch 99/100\n",
      "8972/8972 [==============================] - 1s 130us/step - loss: 0.0063 - acc: 0.9805 - val_loss: 0.0264 - val_acc: 0.9241\n",
      "Epoch 100/100\n",
      "8972/8972 [==============================] - 1s 129us/step - loss: 0.0057 - acc: 0.9829 - val_loss: 0.0229 - val_acc: 0.9340\n",
      "CPU times: user 5min 25s, sys: 47.8 s, total: 6min 12s\n",
      "Wall time: 2min 3s\n"
     ]
    }
   ],
   "source": [
    "PATH_TO_BEST_MODEL = 'models/best_model.hdf5'\n",
    "\n",
    "callbacks = [\n",
    "    keras.callbacks.ModelCheckpoint(PATH_TO_BEST_MODEL, \n",
    "                                    monitor='val_acc', \n",
    "                                    verbose=0, \n",
    "                                    save_best_only=True, \n",
    "                                    save_weights_only=False, \n",
    "                                    mode='auto', \n",
    "                                    period=1)\n",
    "]\n",
    "\n",
    "%time history = model.fit(train_data, train_labels, epochs=100, callbacks=callbacks, batch_size=64, validation_data=(val_data, val_labels))"
   ]
  },
  {
   "cell_type": "code",
   "execution_count": 9,
   "metadata": {},
   "outputs": [
    {
     "name": "stdout",
     "output_type": "stream",
     "text": [
      "              acc     val_acc        loss    val_loss\n",
      "count  100.000000  100.000000  100.000000  100.000000\n",
      "mean     0.918116    0.887787    0.027570    0.038750\n",
      "std      0.115516    0.075582    0.041256    0.027285\n",
      "min      0.440259    0.617647    0.005744    0.021077\n",
      "25%      0.929085    0.897828    0.007318    0.026908\n",
      "50%      0.965392    0.913475    0.011289    0.029934\n",
      "75%      0.978294    0.922110    0.023469    0.035637\n",
      "max      0.982947    0.940150    0.214117    0.147835\n"
     ]
    },
    {
     "data": {
      "text/plain": [
       "<matplotlib.axes._subplots.AxesSubplot at 0x124998e80>"
      ]
     },
     "execution_count": 9,
     "metadata": {},
     "output_type": "execute_result"
    },
    {
     "data": {
      "image/png": "[encoded data removed]",
      "text/plain": [
       "<Figure size 432x288 with 1 Axes>"
      ]
     },
     "metadata": {},
     "output_type": "display_data"
    },
    {
     "data": {
      "image/png": "[encoded data removed]",
      "text/plain": [
       "<Figure size 432x288 with 1 Axes>"
      ]
     },
     "metadata": {},
     "output_type": "display_data"
    },
    {
     "data": {
      "image/png": "[encoded data removed]",
      "text/plain": [
       "<Figure size 432x288 with 1 Axes>"
      ]
     },
     "metadata": {},
     "output_type": "display_data"
    },
    {
     "data": {
      "image/png": "[encoded data removed]",
      "text/plain": [
       "<Figure size 432x288 with 1 Axes>"
      ]
     },
     "metadata": {},
     "output_type": "display_data"
    }
   ],
   "source": [
    "%matplotlib inline\n",
    "\n",
    "history_df = pd.DataFrame(\n",
    "    {'acc': history.history['acc'],\n",
    "     'val_acc': history.history['val_acc'],\n",
    "     'loss': history.history['loss'],\n",
    "     'val_loss': history.history['val_loss']\n",
    "    })\n",
    "\n",
    "print(history_df.describe())\n",
    "\n",
    "history_df[['acc', 'val_acc']].plot(title='Full accuracy')\n",
    "history_df[['loss', 'val_loss']].plot(title='Full loss')\n",
    "history_df[['acc', 'val_acc']][-50:].plot(title='Last 50 epochs accuracy')\n",
    "history_df[['loss', 'val_loss']][-50:].plot(title='Last 50 epochs loss')"
   ]
  },
  {
   "cell_type": "code",
   "execution_count": 10,
   "metadata": {},
   "outputs": [],
   "source": [
    "best_model = keras.models.load_model(PATH_TO_BEST_MODEL)"
   ]
  },
  {
   "cell_type": "code",
   "execution_count": 11,
   "metadata": {},
   "outputs": [
    {
     "name": "stdout",
     "output_type": "stream",
     "text": [
      "2924/2924 [==============================] - 0s 100us/step\n"
     ]
    },
    {
     "data": {
      "text/plain": [
       "[0.034046513234045554, 0.9001367989056087]"
      ]
     },
     "execution_count": 11,
     "metadata": {},
     "output_type": "execute_result"
    }
   ],
   "source": [
    "best_model.evaluate(test_data, test_labels)"
   ]
  },
  {
   "cell_type": "code",
   "execution_count": 12,
   "metadata": {},
   "outputs": [
    {
     "data": {
      "text/plain": [
       "array([[9.865219e-10, 4.736045e-15, 9.013898e-13, 1.488702e-07,\n",
       "        9.999999e-01]], dtype=float32)"
      ]
     },
     "execution_count": 12,
     "metadata": {},
     "output_type": "execute_result"
    }
   ],
   "source": [
    "best_model.predict(test_data[0:1])"
   ]
  },
  {
   "cell_type": "code",
   "execution_count": null,
   "metadata": {},
   "outputs": [],
   "source": []
  }
 ],
 "metadata": {
  "kernelspec": {
   "display_name": "Python 3",
   "language": "python",
   "name": "python3"
  },
  "language_info": {
   "codemirror_mode": {
    "name": "ipython",
    "version": 3
   },
   "file_extension": ".py",
   "mimetype": "text/x-python",
   "name": "python",
   "nbconvert_exporter": "python",
   "pygments_lexer": "ipython3",
   "version": "3.6.5"
  }
 },
 "nbformat": 4,
 "nbformat_minor": 2
}
