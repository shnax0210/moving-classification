{
 "cells": [
  {
   "cell_type": "code",
   "execution_count": 1,
   "metadata": {},
   "outputs": [
    {
     "name": "stderr",
     "output_type": "stream",
     "text": [
      "Using TensorFlow backend.\n"
     ]
    },
    {
     "data": {
      "text/plain": [
       "'2.2.0'"
      ]
     },
     "execution_count": 1,
     "metadata": {},
     "output_type": "execute_result"
    }
   ],
   "source": [
    "import keras\n",
    "keras.__version__"
   ]
  },
  {
   "cell_type": "code",
   "execution_count": 2,
   "metadata": {},
   "outputs": [],
   "source": [
    "import pandas as pd\n",
    "import numpy as np\n",
    "from sklearn.preprocessing import LabelBinarizer\n",
    "\n",
    "MEASUREMENTS_PER_SAMPLE = 100\n",
    "SAMPLE_STEP = 5\n",
    "MEASUREMENTS_IN_SHUFFLE_GROUP = 300\n",
    "CSV_FILE_PATH = '../adapted_gyroscope_datawithamount.csv'\n",
    "\n",
    "df = pd.read_csv(CSV_FILE_PATH)"
   ]
  },
  {
   "cell_type": "code",
   "execution_count": 3,
   "metadata": {},
   "outputs": [
    {
     "name": "stdout",
     "output_type": "stream",
     "text": [
      "(117900, 8)\n",
      "(39300, 8)\n",
      "(39300, 8)\n"
     ]
    }
   ],
   "source": [
    "train_part_in_percents = 0.6\n",
    "val_part_in_percents = 0.2\n",
    "test_part_in_percents = 0.2\n",
    "\n",
    "def split(samples, train_part_in_percents, val_part_in_percents, test_part_in_percents):\n",
    "    train_part_end = int(train_part_in_percents * samples.shape[0])\n",
    "    val_part_end = train_part_end + int(val_part_in_percents * samples.shape[0])\n",
    "    test_part_end = val_part_end + int(test_part_in_percents * samples.shape[0])\n",
    "\n",
    "    train_data = samples[0:train_part_end]\n",
    "    val_data = samples[train_part_end:val_part_end]\n",
    "    test_data = samples[val_part_end:test_part_end]\n",
    "    \n",
    "    return train_data, val_data, test_data\n",
    "\n",
    "train_data_array = []\n",
    "val_data_array = []\n",
    "test_data_array = []\n",
    "\n",
    "def shuffle_groups(l_df):\n",
    "    number_of_groups = l_df.shape[0] // MEASUREMENTS_IN_SHUFFLE_GROUP \n",
    "    size_of_new_df = number_of_groups * MEASUREMENTS_IN_SHUFFLE_GROUP\n",
    "    \n",
    "    l_df = l_df[0: size_of_new_df]\n",
    "\n",
    "    groups = l_df.values.reshape((number_of_groups, MEASUREMENTS_IN_SHUFFLE_GROUP, l_df.shape[-1]))\n",
    "    \n",
    "    randomize = np.arange(number_of_groups)\n",
    "    np.random.shuffle(randomize)\n",
    "    groups = groups[randomize]\n",
    "    \n",
    "    return pd.DataFrame(groups.reshape((size_of_new_df, l_df.shape[-1])), columns=l_df.columns)\n",
    "    \n",
    "\n",
    "for label in df['activity_type'].unique():\n",
    "    l_df = df[df['activity_type'] == label]\n",
    "    \n",
    "    train_data, val_data, test_data = split(shuffle_groups(l_df), 0.6, 0.2, 0.2)\n",
    "    \n",
    "    train_data_array.append(train_data)\n",
    "    val_data_array.append(val_data)\n",
    "    test_data_array.append(test_data)\n",
    "\n",
    "train_df = pd.concat(train_data_array)\n",
    "val_df = pd.concat(val_data_array)\n",
    "test_df = pd.concat(test_data_array)\n",
    "\n",
    "print(train_df.shape)\n",
    "print(val_df.shape)\n",
    "print(test_df.shape)"
   ]
  },
  {
   "cell_type": "code",
   "execution_count": 4,
   "metadata": {},
   "outputs": [
    {
     "name": "stdout",
     "output_type": "stream",
     "text": [
      "(23500, 100, 7)\n",
      "(23500, 4)\n",
      "(7780, 100, 7)\n",
      "(7780, 4)\n",
      "(7780, 100, 7)\n",
      "(7780, 4)\n"
     ]
    }
   ],
   "source": [
    "NUMBER_OF_FEATURES = len(train_df.columns) - 1\n",
    "\n",
    "def preparaSamplesAndTargets(df):\n",
    "    targets_and_samples = []\n",
    "\n",
    "    def prepareForOneLabel(label, df):\n",
    "        l_df = df[df['activity_type'] == label]\n",
    "        l_df = l_df[l_df.columns[0:-1]]\n",
    "        samples_number = (l_df.shape[0] - MEASUREMENTS_PER_SAMPLE) // SAMPLE_STEP\n",
    "    \n",
    "        def getSample(sample_index):\n",
    "            sample_start_index = sample_index * SAMPLE_STEP\n",
    "            sample_end_index = (sample_index * SAMPLE_STEP) + MEASUREMENTS_PER_SAMPLE\n",
    "        \n",
    "            return l_df[sample_start_index:sample_end_index].values.reshape(1, MEASUREMENTS_PER_SAMPLE, NUMBER_OF_FEATURES)\n",
    "    \n",
    "        return [[label, getSample(sample_index)] for sample_index in range(samples_number)]\n",
    "\n",
    "    for label in df['activity_type'].unique():\n",
    "        targets_and_samples.extend(prepareForOneLabel(label, df))\n",
    "\n",
    "    samples = np.concatenate([ts[1] for ts in targets_and_samples])\n",
    "    targets = LabelBinarizer().fit_transform(np.array([ts[0] for ts in targets_and_samples]))\n",
    "    \n",
    "    return samples, targets\n",
    "\n",
    "train_data, train_labels = preparaSamplesAndTargets(train_df)\n",
    "val_data, val_labels = preparaSamplesAndTargets(val_df)\n",
    "test_data, test_labels = preparaSamplesAndTargets(test_df)\n",
    "\n",
    "print(train_data.shape)\n",
    "print(train_labels.shape)\n",
    "\n",
    "print(val_data.shape)\n",
    "print(val_labels.shape)\n",
    "\n",
    "print(test_data.shape)\n",
    "print(test_labels.shape)"
   ]
  },
  {
   "cell_type": "code",
   "execution_count": 5,
   "metadata": {},
   "outputs": [],
   "source": [
    "def shuffleSamplesAndTargets(samples, targets):\n",
    "    randomize = np.arange(samples.shape[0])\n",
    "    np.random.shuffle(randomize)\n",
    "    samples = samples[randomize]\n",
    "    targets = targets[randomize]\n",
    "    \n",
    "    return samples, targets\n",
    "\n",
    "train_data, train_labels = shuffleSamplesAndTargets(train_data, train_labels)"
   ]
  },
  {
   "cell_type": "code",
   "execution_count": 6,
   "metadata": {},
   "outputs": [],
   "source": [
    "from keras import models\n",
    "from keras import layers\n",
    "\n",
    "model = models.Sequential()\n",
    "model.add(layers.Conv1D(32, 3, activation='relu',\n",
    "                        input_shape=(None, train_data.shape[-1])))\n",
    "model.add(layers.MaxPooling1D(2))\n",
    "model.add(layers.Conv1D(32, 3, activation='relu'))\n",
    "model.add(layers.GlobalMaxPooling1D())\n",
    "model.add(layers.Dropout(0.35))\n",
    "model.add(layers.Dense(16, activation='relu'))\n",
    "model.add(layers.Dense(test_labels.shape[-1], activation='softmax'))"
   ]
  },
  {
   "cell_type": "code",
   "execution_count": 7,
   "metadata": {},
   "outputs": [],
   "source": [
    "from keras import optimizers\n",
    "\n",
    "model.compile(optimizer=optimizers.RMSprop(lr=0.0005),\n",
    "              loss='mse',\n",
    "              metrics=['accuracy'])"
   ]
  },
  {
   "cell_type": "code",
   "execution_count": 8,
   "metadata": {},
   "outputs": [
    {
     "name": "stdout",
     "output_type": "stream",
     "text": [
      "Train on 23500 samples, validate on 7780 samples\n",
      "Epoch 1/100\n",
      "23500/23500 [==============================] - 4s 152us/step - loss: 0.1402 - acc: 0.7174 - val_loss: 0.1334 - val_acc: 0.7332\n",
      "Epoch 2/100\n",
      "23500/23500 [==============================] - 3s 126us/step - loss: 0.1351 - acc: 0.7298 - val_loss: 0.1334 - val_acc: 0.7332\n",
      "Epoch 3/100\n",
      "23500/23500 [==============================] - 3s 124us/step - loss: 0.1350 - acc: 0.7297 - val_loss: 0.1336 - val_acc: 0.7332\n",
      "Epoch 4/100\n",
      "23500/23500 [==============================] - 3s 122us/step - loss: 0.1244 - acc: 0.7428 - val_loss: 0.1159 - val_acc: 0.7589\n",
      "Epoch 5/100\n",
      "23500/23500 [==============================] - 3s 125us/step - loss: 0.1126 - acc: 0.7642 - val_loss: 0.1088 - val_acc: 0.7686\n",
      "Epoch 6/100\n",
      "23500/23500 [==============================] - 3s 123us/step - loss: 0.1057 - acc: 0.7730 - val_loss: 0.0883 - val_acc: 0.8081\n",
      "Epoch 7/100\n",
      "23500/23500 [==============================] - 3s 124us/step - loss: 0.0788 - acc: 0.8243 - val_loss: 0.0557 - val_acc: 0.8638\n",
      "Epoch 8/100\n",
      "23500/23500 [==============================] - 3s 129us/step - loss: 0.0430 - acc: 0.8929 - val_loss: 0.0291 - val_acc: 0.9377\n",
      "Epoch 9/100\n",
      "23500/23500 [==============================] - 3s 136us/step - loss: 0.0268 - acc: 0.9366 - val_loss: 0.0254 - val_acc: 0.9456\n",
      "Epoch 10/100\n",
      "23500/23500 [==============================] - 3s 130us/step - loss: 0.0217 - acc: 0.9491 - val_loss: 0.0249 - val_acc: 0.9461\n",
      "Epoch 11/100\n",
      "23500/23500 [==============================] - 3s 133us/step - loss: 0.0201 - acc: 0.9527 - val_loss: 0.0239 - val_acc: 0.9467\n",
      "Epoch 12/100\n",
      "23500/23500 [==============================] - 3s 133us/step - loss: 0.0178 - acc: 0.9590 - val_loss: 0.0228 - val_acc: 0.9494\n",
      "Epoch 13/100\n",
      "23500/23500 [==============================] - 3s 133us/step - loss: 0.0166 - acc: 0.9609 - val_loss: 0.0227 - val_acc: 0.9491\n",
      "Epoch 14/100\n",
      "23500/23500 [==============================] - 3s 133us/step - loss: 0.0155 - acc: 0.9635 - val_loss: 0.0230 - val_acc: 0.9495\n",
      "Epoch 15/100\n",
      "23500/23500 [==============================] - 3s 134us/step - loss: 0.0145 - acc: 0.9669 - val_loss: 0.0231 - val_acc: 0.9497\n",
      "Epoch 16/100\n",
      "23500/23500 [==============================] - 3s 131us/step - loss: 0.0134 - acc: 0.9690 - val_loss: 0.0227 - val_acc: 0.9491\n",
      "Epoch 17/100\n",
      "23500/23500 [==============================] - 3s 132us/step - loss: 0.0129 - acc: 0.9706 - val_loss: 0.0232 - val_acc: 0.9496\n",
      "Epoch 18/100\n",
      "23500/23500 [==============================] - 3s 134us/step - loss: 0.0122 - acc: 0.9715 - val_loss: 0.0218 - val_acc: 0.9523\n",
      "Epoch 19/100\n",
      "23500/23500 [==============================] - 3s 133us/step - loss: 0.0124 - acc: 0.9707 - val_loss: 0.0206 - val_acc: 0.9542\n",
      "Epoch 20/100\n",
      "23500/23500 [==============================] - 3s 132us/step - loss: 0.0115 - acc: 0.9735 - val_loss: 0.0202 - val_acc: 0.9551\n",
      "Epoch 21/100\n",
      "23500/23500 [==============================] - 3s 132us/step - loss: 0.0117 - acc: 0.9730 - val_loss: 0.0206 - val_acc: 0.9530\n",
      "Epoch 22/100\n",
      "23500/23500 [==============================] - 3s 136us/step - loss: 0.0109 - acc: 0.9743 - val_loss: 0.0201 - val_acc: 0.9540\n",
      "Epoch 23/100\n",
      "23500/23500 [==============================] - 3s 134us/step - loss: 0.0107 - acc: 0.9752 - val_loss: 0.0201 - val_acc: 0.9536\n",
      "Epoch 24/100\n",
      "23500/23500 [==============================] - 3s 138us/step - loss: 0.0101 - acc: 0.9763 - val_loss: 0.0202 - val_acc: 0.9550\n",
      "Epoch 25/100\n",
      "23500/23500 [==============================] - 3s 139us/step - loss: 0.0099 - acc: 0.9769 - val_loss: 0.0194 - val_acc: 0.9560\n",
      "Epoch 26/100\n",
      "23500/23500 [==============================] - 3s 136us/step - loss: 0.0095 - acc: 0.9777 - val_loss: 0.0192 - val_acc: 0.9562\n",
      "Epoch 27/100\n",
      "23500/23500 [==============================] - 3s 137us/step - loss: 0.0093 - acc: 0.9784 - val_loss: 0.0185 - val_acc: 0.9580\n",
      "Epoch 28/100\n",
      "23500/23500 [==============================] - 3s 139us/step - loss: 0.0088 - acc: 0.9794 - val_loss: 0.0188 - val_acc: 0.9591\n",
      "Epoch 29/100\n",
      "23500/23500 [==============================] - 3s 139us/step - loss: 0.0089 - acc: 0.9789 - val_loss: 0.0196 - val_acc: 0.9563\n",
      "Epoch 30/100\n",
      "23500/23500 [==============================] - 3s 141us/step - loss: 0.0084 - acc: 0.9799 - val_loss: 0.0194 - val_acc: 0.9567\n",
      "Epoch 31/100\n",
      "23500/23500 [==============================] - 3s 145us/step - loss: 0.0083 - acc: 0.9800 - val_loss: 0.0193 - val_acc: 0.9564\n",
      "Epoch 32/100\n",
      "23500/23500 [==============================] - 3s 144us/step - loss: 0.0086 - acc: 0.9792 - val_loss: 0.0211 - val_acc: 0.9528\n",
      "Epoch 33/100\n",
      "23500/23500 [==============================] - 3s 148us/step - loss: 0.0077 - acc: 0.9821 - val_loss: 0.0200 - val_acc: 0.9540\n",
      "Epoch 34/100\n",
      "23500/23500 [==============================] - 3s 142us/step - loss: 0.0077 - acc: 0.9821 - val_loss: 0.0205 - val_acc: 0.9549\n",
      "Epoch 35/100\n",
      "23500/23500 [==============================] - 3s 143us/step - loss: 0.0075 - acc: 0.9825 - val_loss: 0.0205 - val_acc: 0.9553\n",
      "Epoch 36/100\n",
      "23500/23500 [==============================] - 4s 154us/step - loss: 0.0072 - acc: 0.9824 - val_loss: 0.0210 - val_acc: 0.9539\n",
      "Epoch 37/100\n",
      "23500/23500 [==============================] - 4s 164us/step - loss: 0.0073 - acc: 0.9822 - val_loss: 0.0191 - val_acc: 0.9568\n",
      "Epoch 38/100\n",
      "23500/23500 [==============================] - 4s 167us/step - loss: 0.0073 - acc: 0.9823 - val_loss: 0.0194 - val_acc: 0.9577\n",
      "Epoch 39/100\n",
      "23500/23500 [==============================] - 4s 157us/step - loss: 0.0067 - acc: 0.9841 - val_loss: 0.0186 - val_acc: 0.9575\n",
      "Epoch 40/100\n",
      "23500/23500 [==============================] - 4s 163us/step - loss: 0.0069 - acc: 0.9835 - val_loss: 0.0194 - val_acc: 0.9572\n",
      "Epoch 41/100\n",
      "23500/23500 [==============================] - 4s 160us/step - loss: 0.0061 - acc: 0.9858 - val_loss: 0.0199 - val_acc: 0.9554\n",
      "Epoch 42/100\n",
      "23500/23500 [==============================] - 4s 156us/step - loss: 0.0063 - acc: 0.9849 - val_loss: 0.0207 - val_acc: 0.9554\n",
      "Epoch 43/100\n",
      "23500/23500 [==============================] - 4s 166us/step - loss: 0.0061 - acc: 0.9856 - val_loss: 0.0201 - val_acc: 0.9557\n",
      "Epoch 44/100\n",
      "23500/23500 [==============================] - 4s 165us/step - loss: 0.0061 - acc: 0.9854 - val_loss: 0.0233 - val_acc: 0.9503\n",
      "Epoch 45/100\n",
      "23500/23500 [==============================] - 4s 163us/step - loss: 0.0059 - acc: 0.9858 - val_loss: 0.0209 - val_acc: 0.9530\n",
      "Epoch 46/100\n",
      "23500/23500 [==============================] - 4s 176us/step - loss: 0.0057 - acc: 0.9861 - val_loss: 0.0202 - val_acc: 0.9536\n",
      "Epoch 47/100\n",
      "23500/23500 [==============================] - 4s 161us/step - loss: 0.0056 - acc: 0.9869 - val_loss: 0.0188 - val_acc: 0.9584\n",
      "Epoch 48/100\n",
      "23500/23500 [==============================] - 4s 167us/step - loss: 0.0052 - acc: 0.9878 - val_loss: 0.0193 - val_acc: 0.9571\n",
      "Epoch 49/100\n",
      "23500/23500 [==============================] - 4s 166us/step - loss: 0.0058 - acc: 0.9858 - val_loss: 0.0204 - val_acc: 0.9550\n",
      "Epoch 50/100\n",
      "23500/23500 [==============================] - 4s 169us/step - loss: 0.0057 - acc: 0.9865 - val_loss: 0.0223 - val_acc: 0.9523\n",
      "Epoch 51/100\n",
      "23500/23500 [==============================] - 4s 172us/step - loss: 0.0058 - acc: 0.9865 - val_loss: 0.0226 - val_acc: 0.9509\n",
      "Epoch 52/100\n",
      "23500/23500 [==============================] - 4s 166us/step - loss: 0.0052 - acc: 0.9880 - val_loss: 0.0199 - val_acc: 0.9573\n",
      "Epoch 53/100\n",
      "23500/23500 [==============================] - 4s 168us/step - loss: 0.0051 - acc: 0.9880 - val_loss: 0.0205 - val_acc: 0.9553\n",
      "Epoch 54/100\n",
      "23500/23500 [==============================] - 4s 166us/step - loss: 0.0051 - acc: 0.9880 - val_loss: 0.0203 - val_acc: 0.9535\n",
      "Epoch 55/100\n",
      "23500/23500 [==============================] - 4s 169us/step - loss: 0.0049 - acc: 0.9885 - val_loss: 0.0193 - val_acc: 0.9566\n",
      "Epoch 56/100\n",
      "23500/23500 [==============================] - 4s 162us/step - loss: 0.0046 - acc: 0.9888 - val_loss: 0.0187 - val_acc: 0.9580\n",
      "Epoch 57/100\n",
      "23500/23500 [==============================] - 4s 174us/step - loss: 0.0047 - acc: 0.9888 - val_loss: 0.0204 - val_acc: 0.9559\n",
      "Epoch 58/100\n",
      "23500/23500 [==============================] - 4s 169us/step - loss: 0.0049 - acc: 0.9882 - val_loss: 0.0193 - val_acc: 0.9563\n",
      "Epoch 59/100\n"
     ]
    },
    {
     "name": "stdout",
     "output_type": "stream",
     "text": [
      "23500/23500 [==============================] - 4s 153us/step - loss: 0.0045 - acc: 0.9892 - val_loss: 0.0212 - val_acc: 0.9528\n",
      "Epoch 60/100\n",
      "23500/23500 [==============================] - 4s 151us/step - loss: 0.0047 - acc: 0.9888 - val_loss: 0.0198 - val_acc: 0.9551\n",
      "Epoch 61/100\n",
      "23500/23500 [==============================] - 4s 155us/step - loss: 0.0041 - acc: 0.9896 - val_loss: 0.0223 - val_acc: 0.9491\n",
      "Epoch 62/100\n",
      "23500/23500 [==============================] - 4s 154us/step - loss: 0.0044 - acc: 0.9896 - val_loss: 0.0212 - val_acc: 0.9526\n",
      "Epoch 63/100\n",
      "23500/23500 [==============================] - 4s 157us/step - loss: 0.0045 - acc: 0.9890 - val_loss: 0.0207 - val_acc: 0.9549\n",
      "Epoch 64/100\n",
      "23500/23500 [==============================] - 4s 161us/step - loss: 0.0044 - acc: 0.9896 - val_loss: 0.0217 - val_acc: 0.9518\n",
      "Epoch 65/100\n",
      "23500/23500 [==============================] - 4s 182us/step - loss: 0.0041 - acc: 0.9897 - val_loss: 0.0221 - val_acc: 0.9503\n",
      "Epoch 66/100\n",
      "23500/23500 [==============================] - 4s 166us/step - loss: 0.0043 - acc: 0.9894 - val_loss: 0.0199 - val_acc: 0.9548\n",
      "Epoch 67/100\n",
      "23500/23500 [==============================] - 4s 165us/step - loss: 0.0041 - acc: 0.9903 - val_loss: 0.0214 - val_acc: 0.9531\n",
      "Epoch 68/100\n",
      "23500/23500 [==============================] - 4s 165us/step - loss: 0.0042 - acc: 0.9896 - val_loss: 0.0218 - val_acc: 0.9523\n",
      "Epoch 69/100\n",
      "23500/23500 [==============================] - 5s 195us/step - loss: 0.0043 - acc: 0.9895 - val_loss: 0.0212 - val_acc: 0.9544\n",
      "Epoch 70/100\n",
      "23500/23500 [==============================] - 5s 199us/step - loss: 0.0039 - acc: 0.9907 - val_loss: 0.0221 - val_acc: 0.9515\n",
      "Epoch 71/100\n",
      "23500/23500 [==============================] - 4s 171us/step - loss: 0.0042 - acc: 0.9902 - val_loss: 0.0216 - val_acc: 0.9533\n",
      "Epoch 72/100\n",
      "23500/23500 [==============================] - 4s 168us/step - loss: 0.0039 - acc: 0.9905 - val_loss: 0.0216 - val_acc: 0.9522\n",
      "Epoch 73/100\n",
      "23500/23500 [==============================] - 4s 167us/step - loss: 0.0041 - acc: 0.9899 - val_loss: 0.0212 - val_acc: 0.9526\n",
      "Epoch 74/100\n",
      "23500/23500 [==============================] - 4s 168us/step - loss: 0.0038 - acc: 0.9912 - val_loss: 0.0211 - val_acc: 0.9537\n",
      "Epoch 75/100\n",
      "23500/23500 [==============================] - 4s 165us/step - loss: 0.0038 - acc: 0.9911 - val_loss: 0.0224 - val_acc: 0.9500\n",
      "Epoch 76/100\n",
      "23500/23500 [==============================] - 4s 166us/step - loss: 0.0037 - acc: 0.9911 - val_loss: 0.0206 - val_acc: 0.9554\n",
      "Epoch 77/100\n",
      "23500/23500 [==============================] - 4s 163us/step - loss: 0.0036 - acc: 0.9910 - val_loss: 0.0204 - val_acc: 0.9554\n",
      "Epoch 78/100\n",
      "23500/23500 [==============================] - 4s 168us/step - loss: 0.0039 - acc: 0.9900 - val_loss: 0.0208 - val_acc: 0.9548\n",
      "Epoch 79/100\n",
      "23500/23500 [==============================] - 4s 160us/step - loss: 0.0043 - acc: 0.9894 - val_loss: 0.0208 - val_acc: 0.9535\n",
      "Epoch 80/100\n",
      "23500/23500 [==============================] - 4s 169us/step - loss: 0.0038 - acc: 0.9907 - val_loss: 0.0245 - val_acc: 0.9464\n",
      "Epoch 81/100\n",
      "23500/23500 [==============================] - 4s 171us/step - loss: 0.0036 - acc: 0.9909 - val_loss: 0.0244 - val_acc: 0.9459\n",
      "Epoch 82/100\n",
      "23500/23500 [==============================] - 4s 175us/step - loss: 0.0040 - acc: 0.9898 - val_loss: 0.0229 - val_acc: 0.9505\n",
      "Epoch 83/100\n",
      "23500/23500 [==============================] - 4s 165us/step - loss: 0.0041 - acc: 0.9903 - val_loss: 0.0240 - val_acc: 0.9490\n",
      "Epoch 84/100\n",
      "23500/23500 [==============================] - 4s 163us/step - loss: 0.0040 - acc: 0.9902 - val_loss: 0.0226 - val_acc: 0.9512\n",
      "Epoch 85/100\n",
      "23500/23500 [==============================] - 4s 172us/step - loss: 0.0035 - acc: 0.9917 - val_loss: 0.0216 - val_acc: 0.9530\n",
      "Epoch 86/100\n",
      "23500/23500 [==============================] - 4s 168us/step - loss: 0.0036 - acc: 0.9915 - val_loss: 0.0242 - val_acc: 0.9472\n",
      "Epoch 87/100\n",
      "23500/23500 [==============================] - 4s 171us/step - loss: 0.0038 - acc: 0.9910 - val_loss: 0.0233 - val_acc: 0.9492\n",
      "Epoch 88/100\n",
      "23500/23500 [==============================] - 4s 161us/step - loss: 0.0035 - acc: 0.9913 - val_loss: 0.0228 - val_acc: 0.9488\n",
      "Epoch 89/100\n",
      "23500/23500 [==============================] - 4s 168us/step - loss: 0.0035 - acc: 0.9915 - val_loss: 0.0226 - val_acc: 0.9515\n",
      "Epoch 90/100\n",
      "23500/23500 [==============================] - 4s 167us/step - loss: 0.0036 - acc: 0.9906 - val_loss: 0.0221 - val_acc: 0.9503\n",
      "Epoch 91/100\n",
      "23500/23500 [==============================] - 4s 167us/step - loss: 0.0038 - acc: 0.9901 - val_loss: 0.0218 - val_acc: 0.9519\n",
      "Epoch 92/100\n",
      "23500/23500 [==============================] - 4s 167us/step - loss: 0.0039 - acc: 0.9903 - val_loss: 0.0227 - val_acc: 0.9517\n",
      "Epoch 93/100\n",
      "23500/23500 [==============================] - 4s 170us/step - loss: 0.0036 - acc: 0.9911 - val_loss: 0.0232 - val_acc: 0.9495\n",
      "Epoch 94/100\n",
      "23500/23500 [==============================] - 4s 172us/step - loss: 0.0033 - acc: 0.9915 - val_loss: 0.0205 - val_acc: 0.9545\n",
      "Epoch 95/100\n",
      "23500/23500 [==============================] - 4s 172us/step - loss: 0.0035 - acc: 0.9912 - val_loss: 0.0221 - val_acc: 0.9510\n",
      "Epoch 96/100\n",
      "23500/23500 [==============================] - 4s 164us/step - loss: 0.0037 - acc: 0.9905 - val_loss: 0.0225 - val_acc: 0.9513\n",
      "Epoch 97/100\n",
      "23500/23500 [==============================] - 4s 172us/step - loss: 0.0036 - acc: 0.9909 - val_loss: 0.0212 - val_acc: 0.9535\n",
      "Epoch 98/100\n",
      "23500/23500 [==============================] - 4s 168us/step - loss: 0.0033 - acc: 0.9921 - val_loss: 0.0262 - val_acc: 0.9425\n",
      "Epoch 99/100\n",
      "23500/23500 [==============================] - 4s 172us/step - loss: 0.0036 - acc: 0.9910 - val_loss: 0.0219 - val_acc: 0.9515\n",
      "Epoch 100/100\n",
      "23500/23500 [==============================] - 4s 171us/step - loss: 0.0031 - acc: 0.9918 - val_loss: 0.0240 - val_acc: 0.9481\n",
      "CPU times: user 16min 16s, sys: 1min 56s, total: 18min 13s\n",
      "Wall time: 6min 6s\n"
     ]
    }
   ],
   "source": [
    "PATH_TO_BEST_MODEL = 'models/best_model.hdf5'\n",
    "\n",
    "callbacks = [\n",
    "    keras.callbacks.ModelCheckpoint(PATH_TO_BEST_MODEL, \n",
    "                                    monitor='val_acc', \n",
    "                                    verbose=0, \n",
    "                                    save_best_only=True, \n",
    "                                    save_weights_only=False, \n",
    "                                    mode='auto', \n",
    "                                    period=1)\n",
    "]\n",
    "\n",
    "%time history = model.fit(train_data, train_labels, epochs=100, callbacks=callbacks, batch_size=64, validation_data=(val_data, val_labels))"
   ]
  },
  {
   "cell_type": "code",
   "execution_count": 9,
   "metadata": {},
   "outputs": [
    {
     "name": "stdout",
     "output_type": "stream",
     "text": [
      "              acc     val_acc        loss    val_loss\n",
      "count  100.000000  100.000000  100.000000  100.000000\n",
      "mean     0.966732    0.939990    0.015055    0.027613\n",
      "std      0.060726    0.048195    0.029642    0.023864\n",
      "min      0.717362    0.733162    0.003115    0.018479\n",
      "25%      0.977521    0.949582    0.003963    0.020181\n",
      "50%      0.987319    0.952892    0.005414    0.021236\n",
      "75%      0.990234    0.955174    0.009559    0.022805\n",
      "max      0.992085    0.959126    0.140198    0.133595\n"
     ]
    },
    {
     "data": {
      "text/plain": [
       "<matplotlib.axes._subplots.AxesSubplot at 0x11c017c88>"
      ]
     },
     "execution_count": 9,
     "metadata": {},
     "output_type": "execute_result"
    },
    {
     "data": {
      "image/png": "[encoded data removed]",
      "text/plain": [
       "<Figure size 432x288 with 1 Axes>"
      ]
     },
     "metadata": {},
     "output_type": "display_data"
    },
    {
     "data": {
      "image/png": "[encoded data removed]",
      "text/plain": [
       "<Figure size 432x288 with 1 Axes>"
      ]
     },
     "metadata": {},
     "output_type": "display_data"
    },
    {
     "data": {
      "image/png": "[encoded data removed]",
      "text/plain": [
       "<Figure size 432x288 with 1 Axes>"
      ]
     },
     "metadata": {},
     "output_type": "display_data"
    },
    {
     "data": {
      "image/png": "[encoded data removed]",
      "text/plain": [
       "<Figure size 432x288 with 1 Axes>"
      ]
     },
     "metadata": {},
     "output_type": "display_data"
    }
   ],
   "source": [
    "%matplotlib inline\n",
    "\n",
    "history_df = pd.DataFrame(\n",
    "    {'acc': history.history['acc'],\n",
    "     'val_acc': history.history['val_acc'],\n",
    "     'loss': history.history['loss'],\n",
    "     'val_loss': history.history['val_loss']\n",
    "    })\n",
    "\n",
    "print(history_df.describe())\n",
    "\n",
    "history_df[['acc', 'val_acc']].plot(title='Full accuracy')\n",
    "history_df[['loss', 'val_loss']].plot(title='Full loss')\n",
    "history_df[['acc', 'val_acc']][-50:].plot(title='Last 50 epochs accuracy')\n",
    "history_df[['loss', 'val_loss']][-50:].plot(title='Last 50 epochs loss')"
   ]
  },
  {
   "cell_type": "code",
   "execution_count": 10,
   "metadata": {},
   "outputs": [],
   "source": [
    "best_model = keras.models.load_model(PATH_TO_BEST_MODEL)"
   ]
  },
  {
   "cell_type": "code",
   "execution_count": 11,
   "metadata": {},
   "outputs": [
    {
     "name": "stdout",
     "output_type": "stream",
     "text": [
      "7780/7780 [==============================] - 0s 58us/step\n"
     ]
    },
    {
     "data": {
      "text/plain": [
       "[0.015829188602311604, 0.9634961439588688]"
      ]
     },
     "execution_count": 11,
     "metadata": {},
     "output_type": "execute_result"
    }
   ],
   "source": [
    "best_model.evaluate(test_data, test_labels)"
   ]
  },
  {
   "cell_type": "code",
   "execution_count": 12,
   "metadata": {},
   "outputs": [
    {
     "data": {
      "text/plain": [
       "array([[1.3052115e-30, 1.0000000e+00, 5.3505539e-23, 2.8245502e-15]],\n",
       "      dtype=float32)"
      ]
     },
     "execution_count": 12,
     "metadata": {},
     "output_type": "execute_result"
    }
   ],
   "source": [
    "best_model.predict(test_data[0:1])"
   ]
  },
  {
   "cell_type": "code",
   "execution_count": null,
   "metadata": {},
   "outputs": [],
   "source": []
  }
 ],
 "metadata": {
  "kernelspec": {
   "display_name": "Python 3",
   "language": "python",
   "name": "python3"
  },
  "language_info": {
   "codemirror_mode": {
    "name": "ipython",
    "version": 3
   },
   "file_extension": ".py",
   "mimetype": "text/x-python",
   "name": "python",
   "nbconvert_exporter": "python",
   "pygments_lexer": "ipython3",
   "version": "3.6.5"
  }
 },
 "nbformat": 4,
 "nbformat_minor": 2
}
