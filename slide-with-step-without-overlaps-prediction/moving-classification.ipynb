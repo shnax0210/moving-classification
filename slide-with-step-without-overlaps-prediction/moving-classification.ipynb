{
 "cells": [
  {
   "cell_type": "code",
   "execution_count": 1,
   "metadata": {},
   "outputs": [
    {
     "name": "stderr",
     "output_type": "stream",
     "text": [
      "Using TensorFlow backend.\n"
     ]
    },
    {
     "data": {
      "text/plain": [
       "'2.2.0'"
      ]
     },
     "execution_count": 1,
     "metadata": {},
     "output_type": "execute_result"
    }
   ],
   "source": [
    "import keras\n",
    "keras.__version__"
   ]
  },
  {
   "cell_type": "code",
   "execution_count": 2,
   "metadata": {},
   "outputs": [],
   "source": [
    "import pandas as pd\n",
    "import numpy as np\n",
    "from sklearn.preprocessing import LabelBinarizer\n",
    "\n",
    "MEASUREMENTS_PER_SAMPLE = 100\n",
    "SAMPLE_STEP = 5\n",
    "MEASUREMENTS_IN_SHUFFLE_GROUP = 300\n",
    "CSV_FILE_PATH = '../gyroscope_data_updated.csv'\n",
    "\n",
    "df = pd.read_csv(CSV_FILE_PATH)"
   ]
  },
  {
   "cell_type": "code",
   "execution_count": 3,
   "metadata": {},
   "outputs": [
    {
     "name": "stdout",
     "output_type": "stream",
     "text": [
      "(45360, 7)\n",
      "(15120, 7)\n",
      "(15120, 7)\n"
     ]
    }
   ],
   "source": [
    "train_part_in_percents = 0.6\n",
    "val_part_in_percents = 0.2\n",
    "test_part_in_percents = 0.2\n",
    "\n",
    "def split(samples, train_part_in_percents, val_part_in_percents, test_part_in_percents):\n",
    "    train_part_end = int(train_part_in_percents * samples.shape[0])\n",
    "    val_part_end = train_part_end + int(val_part_in_percents * samples.shape[0])\n",
    "    test_part_end = val_part_end + int(test_part_in_percents * samples.shape[0])\n",
    "\n",
    "    train_data = samples[0:train_part_end]\n",
    "    val_data = samples[train_part_end:val_part_end]\n",
    "    test_data = samples[val_part_end:test_part_end]\n",
    "    \n",
    "    return train_data, val_data, test_data\n",
    "\n",
    "train_data_array = []\n",
    "val_data_array = []\n",
    "test_data_array = []\n",
    "\n",
    "def shuffle_groups(l_df):\n",
    "    number_of_groups = l_df.shape[0] // MEASUREMENTS_IN_SHUFFLE_GROUP \n",
    "    size_of_new_df = number_of_groups * MEASUREMENTS_IN_SHUFFLE_GROUP\n",
    "    \n",
    "    l_df = l_df[0: size_of_new_df]\n",
    "\n",
    "    groups = l_df.values.reshape((number_of_groups, MEASUREMENTS_IN_SHUFFLE_GROUP, l_df.shape[-1]))\n",
    "    \n",
    "    randomize = np.arange(number_of_groups)\n",
    "    np.random.shuffle(randomize)\n",
    "    groups = groups[randomize]\n",
    "    \n",
    "    return pd.DataFrame(groups.reshape((size_of_new_df, l_df.shape[-1])), columns=l_df.columns)\n",
    "    \n",
    "\n",
    "for label in df['activity_type'].unique():\n",
    "    l_df = df[df['activity_type'] == label]\n",
    "    \n",
    "    train_data, val_data, test_data = split(shuffle_groups(l_df), 0.6, 0.2, 0.2)\n",
    "    \n",
    "    train_data_array.append(train_data)\n",
    "    val_data_array.append(val_data)\n",
    "    test_data_array.append(test_data)\n",
    "\n",
    "train_df = pd.concat(train_data_array)\n",
    "val_df = pd.concat(val_data_array)\n",
    "test_df = pd.concat(test_data_array)\n",
    "\n",
    "print(train_df.shape)\n",
    "print(val_df.shape)\n",
    "print(test_df.shape)"
   ]
  },
  {
   "cell_type": "code",
   "execution_count": 4,
   "metadata": {},
   "outputs": [
    {
     "name": "stdout",
     "output_type": "stream",
     "text": [
      "(8972, 100, 6)\n",
      "(8972, 5)\n",
      "(2924, 100, 6)\n",
      "(2924, 5)\n",
      "(2924, 100, 6)\n",
      "(2924, 5)\n"
     ]
    }
   ],
   "source": [
    "def preparaSamplesAndTargets(df):\n",
    "    targets_and_samples = []\n",
    "\n",
    "    def prepareForOneLabel(label, df):\n",
    "        l_df = df[df['activity_type'] == label]\n",
    "        l_df = l_df[l_df.columns[0:-1]]\n",
    "        samples_number = (l_df.shape[0] - MEASUREMENTS_PER_SAMPLE) // SAMPLE_STEP\n",
    "    \n",
    "        def getSample(sample_index):\n",
    "            sample_start_index = sample_index * SAMPLE_STEP\n",
    "            sample_end_index = (sample_index * SAMPLE_STEP) + MEASUREMENTS_PER_SAMPLE\n",
    "        \n",
    "            return l_df[sample_start_index:sample_end_index].values.reshape(1, MEASUREMENTS_PER_SAMPLE, 6)\n",
    "    \n",
    "        return [[label, getSample(sample_index)] for sample_index in range(samples_number)]\n",
    "\n",
    "    for label in df['activity_type'].unique():\n",
    "        targets_and_samples.extend(prepareForOneLabel(label, df))\n",
    "\n",
    "    samples = np.concatenate([ts[1] for ts in targets_and_samples])\n",
    "    targets = LabelBinarizer().fit_transform(np.array([ts[0] for ts in targets_and_samples]))\n",
    "    \n",
    "    return samples, targets\n",
    "\n",
    "train_data, train_labels = preparaSamplesAndTargets(train_df)\n",
    "val_data, val_labels = preparaSamplesAndTargets(val_df)\n",
    "test_data, test_labels = preparaSamplesAndTargets(test_df)\n",
    "\n",
    "print(train_data.shape)\n",
    "print(train_labels.shape)\n",
    "\n",
    "print(val_data.shape)\n",
    "print(val_labels.shape)\n",
    "\n",
    "print(test_data.shape)\n",
    "print(test_labels.shape)"
   ]
  },
  {
   "cell_type": "code",
   "execution_count": 5,
   "metadata": {},
   "outputs": [],
   "source": [
    "def shuffleSamplesAndTargets(samples, targets):\n",
    "    randomize = np.arange(samples.shape[0])\n",
    "    np.random.shuffle(randomize)\n",
    "    samples = samples[randomize]\n",
    "    targets = targets[randomize]\n",
    "    \n",
    "    return samples, targets\n",
    "\n",
    "train_data, train_labels = shuffleSamplesAndTargets(train_data, train_labels)"
   ]
  },
  {
   "cell_type": "code",
   "execution_count": 13,
   "metadata": {},
   "outputs": [],
   "source": [
    "from keras import models\n",
    "from keras import layers\n",
    "\n",
    "model = models.Sequential()\n",
    "model.add(layers.Conv1D(32, 3, activation='relu',\n",
    "                        input_shape=(None, train_data.shape[-1])))\n",
    "model.add(layers.MaxPooling1D(2))\n",
    "model.add(layers.Conv1D(32, 3, activation='relu'))\n",
    "model.add(layers.GlobalMaxPooling1D())\n",
    "model.add(layers.Dropout(0.35))\n",
    "model.add(layers.Dense(16, activation='relu'))\n",
    "model.add(layers.Dense(test_labels.shape[-1], activation='softmax'))"
   ]
  },
  {
   "cell_type": "code",
   "execution_count": 14,
   "metadata": {},
   "outputs": [],
   "source": [
    "from keras import optimizers\n",
    "\n",
    "model.compile(optimizer=optimizers.RMSprop(lr=0.0005),\n",
    "              loss='mse',\n",
    "              metrics=['accuracy'])"
   ]
  },
  {
   "cell_type": "code",
   "execution_count": 15,
   "metadata": {},
   "outputs": [
    {
     "name": "stdout",
     "output_type": "stream",
     "text": [
      "Train on 8972 samples, validate on 2924 samples\n",
      "Epoch 1/100\n",
      "8972/8972 [==============================] - 2s 199us/step - loss: 0.2505 - acc: 0.3503 - val_loss: 0.2035 - val_acc: 0.4709\n",
      "Epoch 2/100\n",
      "8972/8972 [==============================] - 1s 135us/step - loss: 0.1962 - acc: 0.4847 - val_loss: 0.1354 - val_acc: 0.6471\n",
      "Epoch 3/100\n",
      "8972/8972 [==============================] - 1s 130us/step - loss: 0.1724 - acc: 0.5488 - val_loss: 0.1334 - val_acc: 0.6491\n",
      "Epoch 4/100\n",
      "8972/8972 [==============================] - 1s 131us/step - loss: 0.1566 - acc: 0.5788 - val_loss: 0.1271 - val_acc: 0.6631\n",
      "Epoch 5/100\n",
      "8972/8972 [==============================] - 1s 138us/step - loss: 0.1418 - acc: 0.5988 - val_loss: 0.1214 - val_acc: 0.6720\n",
      "Epoch 6/100\n",
      "8972/8972 [==============================] - 1s 130us/step - loss: 0.1301 - acc: 0.6088 - val_loss: 0.1142 - val_acc: 0.6618\n",
      "Epoch 7/100\n",
      "8972/8972 [==============================] - 1s 139us/step - loss: 0.1190 - acc: 0.6278 - val_loss: 0.1128 - val_acc: 0.6648\n",
      "Epoch 8/100\n",
      "8972/8972 [==============================] - 1s 147us/step - loss: 0.1079 - acc: 0.6475 - val_loss: 0.0920 - val_acc: 0.6960\n",
      "Epoch 9/100\n",
      "8972/8972 [==============================] - 1s 143us/step - loss: 0.0963 - acc: 0.6870 - val_loss: 0.0815 - val_acc: 0.7202\n",
      "Epoch 10/100\n",
      "8972/8972 [==============================] - 1s 136us/step - loss: 0.0857 - acc: 0.7234 - val_loss: 0.0851 - val_acc: 0.7254\n",
      "Epoch 11/100\n",
      "8972/8972 [==============================] - 1s 131us/step - loss: 0.0782 - acc: 0.7503 - val_loss: 0.0668 - val_acc: 0.7784\n",
      "Epoch 12/100\n",
      "8972/8972 [==============================] - 1s 131us/step - loss: 0.0720 - acc: 0.7728 - val_loss: 0.0662 - val_acc: 0.7784\n",
      "Epoch 13/100\n",
      "8972/8972 [==============================] - 1s 138us/step - loss: 0.0663 - acc: 0.7915 - val_loss: 0.0600 - val_acc: 0.8085\n",
      "Epoch 14/100\n",
      "8972/8972 [==============================] - 1s 131us/step - loss: 0.0606 - acc: 0.8134 - val_loss: 0.0557 - val_acc: 0.8105\n",
      "Epoch 15/100\n",
      "8972/8972 [==============================] - 1s 135us/step - loss: 0.0561 - acc: 0.8284 - val_loss: 0.0572 - val_acc: 0.8167\n",
      "Epoch 16/100\n",
      "8972/8972 [==============================] - 1s 139us/step - loss: 0.0535 - acc: 0.8375 - val_loss: 0.0528 - val_acc: 0.8163\n",
      "Epoch 17/100\n",
      "8972/8972 [==============================] - 1s 133us/step - loss: 0.0498 - acc: 0.8494 - val_loss: 0.0521 - val_acc: 0.8181\n",
      "Epoch 18/100\n",
      "8972/8972 [==============================] - 1s 146us/step - loss: 0.0472 - acc: 0.8563 - val_loss: 0.0467 - val_acc: 0.8393\n",
      "Epoch 19/100\n",
      "8972/8972 [==============================] - 1s 146us/step - loss: 0.0450 - acc: 0.8590 - val_loss: 0.0476 - val_acc: 0.8382\n",
      "Epoch 20/100\n",
      "8972/8972 [==============================] - 1s 145us/step - loss: 0.0415 - acc: 0.8717 - val_loss: 0.0471 - val_acc: 0.8488\n",
      "Epoch 21/100\n",
      "8972/8972 [==============================] - 2s 190us/step - loss: 0.0396 - acc: 0.8767 - val_loss: 0.0463 - val_acc: 0.8365\n",
      "Epoch 22/100\n",
      "8972/8972 [==============================] - 2s 173us/step - loss: 0.0368 - acc: 0.8843 - val_loss: 0.0391 - val_acc: 0.8642\n",
      "Epoch 23/100\n",
      "8972/8972 [==============================] - 2s 170us/step - loss: 0.0341 - acc: 0.8938 - val_loss: 0.0428 - val_acc: 0.8482\n",
      "Epoch 24/100\n",
      "8972/8972 [==============================] - 1s 163us/step - loss: 0.0344 - acc: 0.8874 - val_loss: 0.0466 - val_acc: 0.8386\n",
      "Epoch 25/100\n",
      "8972/8972 [==============================] - 1s 155us/step - loss: 0.0304 - acc: 0.9045 - val_loss: 0.0444 - val_acc: 0.8540\n",
      "Epoch 26/100\n",
      "8972/8972 [==============================] - 1s 156us/step - loss: 0.0302 - acc: 0.9053 - val_loss: 0.0416 - val_acc: 0.8526\n",
      "Epoch 27/100\n",
      "8972/8972 [==============================] - 1s 147us/step - loss: 0.0279 - acc: 0.9132 - val_loss: 0.0389 - val_acc: 0.8642\n",
      "Epoch 28/100\n",
      "8972/8972 [==============================] - 2s 168us/step - loss: 0.0270 - acc: 0.9137 - val_loss: 0.0433 - val_acc: 0.8526\n",
      "Epoch 29/100\n",
      "8972/8972 [==============================] - 1s 156us/step - loss: 0.0253 - acc: 0.9193 - val_loss: 0.0377 - val_acc: 0.8704\n",
      "Epoch 30/100\n",
      "8972/8972 [==============================] - 1s 152us/step - loss: 0.0245 - acc: 0.9234 - val_loss: 0.0431 - val_acc: 0.8519\n",
      "Epoch 31/100\n",
      "8972/8972 [==============================] - 1s 161us/step - loss: 0.0234 - acc: 0.9273 - val_loss: 0.0376 - val_acc: 0.8618\n",
      "Epoch 32/100\n",
      "8972/8972 [==============================] - 1s 159us/step - loss: 0.0222 - acc: 0.9321 - val_loss: 0.0391 - val_acc: 0.8632\n",
      "Epoch 33/100\n",
      "8972/8972 [==============================] - 1s 158us/step - loss: 0.0223 - acc: 0.9299 - val_loss: 0.0431 - val_acc: 0.8577\n",
      "Epoch 34/100\n",
      "8972/8972 [==============================] - 1s 160us/step - loss: 0.0212 - acc: 0.9344 - val_loss: 0.0361 - val_acc: 0.8786\n",
      "Epoch 35/100\n",
      "8972/8972 [==============================] - 2s 171us/step - loss: 0.0207 - acc: 0.9375 - val_loss: 0.0435 - val_acc: 0.8574\n",
      "Epoch 36/100\n",
      "8972/8972 [==============================] - 1s 156us/step - loss: 0.0192 - acc: 0.9398 - val_loss: 0.0357 - val_acc: 0.8776\n",
      "Epoch 37/100\n",
      "8972/8972 [==============================] - 1s 146us/step - loss: 0.0185 - acc: 0.9416 - val_loss: 0.0358 - val_acc: 0.8752\n",
      "Epoch 38/100\n",
      "8972/8972 [==============================] - 1s 144us/step - loss: 0.0187 - acc: 0.9414 - val_loss: 0.0406 - val_acc: 0.8642\n",
      "Epoch 39/100\n",
      "8972/8972 [==============================] - 1s 146us/step - loss: 0.0177 - acc: 0.9444 - val_loss: 0.0386 - val_acc: 0.8646\n",
      "Epoch 40/100\n",
      "8972/8972 [==============================] - 1s 139us/step - loss: 0.0170 - acc: 0.9483 - val_loss: 0.0345 - val_acc: 0.8820\n",
      "Epoch 41/100\n",
      "8972/8972 [==============================] - 1s 139us/step - loss: 0.0166 - acc: 0.9484 - val_loss: 0.0370 - val_acc: 0.8738\n",
      "Epoch 42/100\n",
      "8972/8972 [==============================] - 1s 139us/step - loss: 0.0159 - acc: 0.9495 - val_loss: 0.0306 - val_acc: 0.8943\n",
      "Epoch 43/100\n",
      "8972/8972 [==============================] - 1s 140us/step - loss: 0.0152 - acc: 0.9523 - val_loss: 0.0284 - val_acc: 0.9025\n",
      "Epoch 44/100\n",
      "8972/8972 [==============================] - 1s 139us/step - loss: 0.0147 - acc: 0.9519 - val_loss: 0.0385 - val_acc: 0.8759\n",
      "Epoch 45/100\n",
      "8972/8972 [==============================] - 1s 140us/step - loss: 0.0142 - acc: 0.9566 - val_loss: 0.0317 - val_acc: 0.8930\n",
      "Epoch 46/100\n",
      "8972/8972 [==============================] - 1s 138us/step - loss: 0.0141 - acc: 0.9576 - val_loss: 0.0339 - val_acc: 0.8909\n",
      "Epoch 47/100\n",
      "8972/8972 [==============================] - 1s 139us/step - loss: 0.0140 - acc: 0.9572 - val_loss: 0.0372 - val_acc: 0.8786\n",
      "Epoch 48/100\n",
      "8972/8972 [==============================] - 1s 137us/step - loss: 0.0133 - acc: 0.9598 - val_loss: 0.0341 - val_acc: 0.8851\n",
      "Epoch 49/100\n",
      "8972/8972 [==============================] - 1s 138us/step - loss: 0.0134 - acc: 0.9570 - val_loss: 0.0309 - val_acc: 0.8947\n",
      "Epoch 50/100\n",
      "8972/8972 [==============================] - 1s 139us/step - loss: 0.0122 - acc: 0.9632 - val_loss: 0.0359 - val_acc: 0.8854\n",
      "Epoch 51/100\n",
      "8972/8972 [==============================] - 1s 138us/step - loss: 0.0122 - acc: 0.9610 - val_loss: 0.0324 - val_acc: 0.8892\n",
      "Epoch 52/100\n",
      "8972/8972 [==============================] - 1s 139us/step - loss: 0.0119 - acc: 0.9642 - val_loss: 0.0285 - val_acc: 0.9032\n",
      "Epoch 53/100\n",
      "8972/8972 [==============================] - 1s 139us/step - loss: 0.0119 - acc: 0.9632 - val_loss: 0.0282 - val_acc: 0.9066\n",
      "Epoch 54/100\n",
      "8972/8972 [==============================] - 1s 138us/step - loss: 0.0121 - acc: 0.9617 - val_loss: 0.0293 - val_acc: 0.9025\n",
      "Epoch 55/100\n",
      "8972/8972 [==============================] - 1s 138us/step - loss: 0.0109 - acc: 0.9669 - val_loss: 0.0359 - val_acc: 0.8861\n",
      "Epoch 56/100\n",
      "8972/8972 [==============================] - 1s 138us/step - loss: 0.0110 - acc: 0.9658 - val_loss: 0.0298 - val_acc: 0.9036\n",
      "Epoch 57/100\n",
      "8972/8972 [==============================] - 1s 138us/step - loss: 0.0114 - acc: 0.9644 - val_loss: 0.0322 - val_acc: 0.8950\n",
      "Epoch 58/100\n",
      "8972/8972 [==============================] - 1s 139us/step - loss: 0.0101 - acc: 0.9695 - val_loss: 0.0319 - val_acc: 0.8967\n",
      "Epoch 59/100\n",
      "8972/8972 [==============================] - 1s 136us/step - loss: 0.0113 - acc: 0.9658 - val_loss: 0.0319 - val_acc: 0.8967\n",
      "Epoch 60/100\n"
     ]
    },
    {
     "name": "stdout",
     "output_type": "stream",
     "text": [
      "8972/8972 [==============================] - 1s 139us/step - loss: 0.0093 - acc: 0.9717 - val_loss: 0.0303 - val_acc: 0.9008\n",
      "Epoch 61/100\n",
      "8972/8972 [==============================] - 1s 141us/step - loss: 0.0104 - acc: 0.9677 - val_loss: 0.0312 - val_acc: 0.8998\n",
      "Epoch 62/100\n",
      "8972/8972 [==============================] - 1s 135us/step - loss: 0.0097 - acc: 0.9709 - val_loss: 0.0352 - val_acc: 0.8875\n",
      "Epoch 63/100\n",
      "8972/8972 [==============================] - 1s 135us/step - loss: 0.0099 - acc: 0.9710 - val_loss: 0.0298 - val_acc: 0.9012\n",
      "Epoch 64/100\n",
      "8972/8972 [==============================] - 1s 131us/step - loss: 0.0093 - acc: 0.9719 - val_loss: 0.0360 - val_acc: 0.8861\n",
      "Epoch 65/100\n",
      "8972/8972 [==============================] - 1s 131us/step - loss: 0.0102 - acc: 0.9671 - val_loss: 0.0311 - val_acc: 0.9025\n",
      "Epoch 66/100\n",
      "8972/8972 [==============================] - 1s 130us/step - loss: 0.0092 - acc: 0.9709 - val_loss: 0.0340 - val_acc: 0.8957\n",
      "Epoch 67/100\n",
      "8972/8972 [==============================] - 1s 131us/step - loss: 0.0091 - acc: 0.9715 - val_loss: 0.0385 - val_acc: 0.8858\n",
      "Epoch 68/100\n",
      "8972/8972 [==============================] - 1s 136us/step - loss: 0.0088 - acc: 0.9725 - val_loss: 0.0330 - val_acc: 0.8964\n",
      "Epoch 69/100\n",
      "8972/8972 [==============================] - 1s 136us/step - loss: 0.0092 - acc: 0.9708 - val_loss: 0.0290 - val_acc: 0.9060\n",
      "Epoch 70/100\n",
      "8972/8972 [==============================] - 1s 133us/step - loss: 0.0088 - acc: 0.9734 - val_loss: 0.0290 - val_acc: 0.9056\n",
      "Epoch 71/100\n",
      "8972/8972 [==============================] - 1s 132us/step - loss: 0.0090 - acc: 0.9729 - val_loss: 0.0343 - val_acc: 0.8974\n",
      "Epoch 72/100\n",
      "8972/8972 [==============================] - 1s 142us/step - loss: 0.0085 - acc: 0.9740 - val_loss: 0.0269 - val_acc: 0.9135\n",
      "Epoch 73/100\n",
      "8972/8972 [==============================] - 1s 163us/step - loss: 0.0083 - acc: 0.9744 - val_loss: 0.0368 - val_acc: 0.8827\n",
      "Epoch 74/100\n",
      "8972/8972 [==============================] - 1s 146us/step - loss: 0.0085 - acc: 0.9746 - val_loss: 0.0360 - val_acc: 0.8909\n",
      "Epoch 75/100\n",
      "8972/8972 [==============================] - 1s 152us/step - loss: 0.0078 - acc: 0.9757 - val_loss: 0.0318 - val_acc: 0.8984\n",
      "Epoch 76/100\n",
      "8972/8972 [==============================] - 1s 147us/step - loss: 0.0081 - acc: 0.9743 - val_loss: 0.0299 - val_acc: 0.9073\n",
      "Epoch 77/100\n",
      "8972/8972 [==============================] - 1s 141us/step - loss: 0.0085 - acc: 0.9737 - val_loss: 0.0290 - val_acc: 0.9063\n",
      "Epoch 78/100\n",
      "8972/8972 [==============================] - 1s 138us/step - loss: 0.0085 - acc: 0.9726 - val_loss: 0.0319 - val_acc: 0.9008\n",
      "Epoch 79/100\n",
      "8972/8972 [==============================] - 1s 140us/step - loss: 0.0087 - acc: 0.9719 - val_loss: 0.0304 - val_acc: 0.9025\n",
      "Epoch 80/100\n",
      "8972/8972 [==============================] - 1s 156us/step - loss: 0.0076 - acc: 0.9764 - val_loss: 0.0310 - val_acc: 0.9005\n",
      "Epoch 81/100\n",
      "8972/8972 [==============================] - 1s 148us/step - loss: 0.0085 - acc: 0.9745 - val_loss: 0.0298 - val_acc: 0.9032\n",
      "Epoch 82/100\n",
      "8972/8972 [==============================] - 1s 147us/step - loss: 0.0080 - acc: 0.9760 - val_loss: 0.0319 - val_acc: 0.9053\n",
      "Epoch 83/100\n",
      "8972/8972 [==============================] - 1s 150us/step - loss: 0.0075 - acc: 0.9761 - val_loss: 0.0362 - val_acc: 0.8916\n",
      "Epoch 84/100\n",
      "8972/8972 [==============================] - 2s 169us/step - loss: 0.0077 - acc: 0.9759 - val_loss: 0.0362 - val_acc: 0.8885\n",
      "Epoch 85/100\n",
      "8972/8972 [==============================] - 1s 151us/step - loss: 0.0082 - acc: 0.9739 - val_loss: 0.0344 - val_acc: 0.8943\n",
      "Epoch 86/100\n",
      "8972/8972 [==============================] - 1s 147us/step - loss: 0.0076 - acc: 0.9766 - val_loss: 0.0351 - val_acc: 0.8940\n",
      "Epoch 87/100\n",
      "8972/8972 [==============================] - 1s 139us/step - loss: 0.0071 - acc: 0.9784 - val_loss: 0.0315 - val_acc: 0.9012\n",
      "Epoch 88/100\n",
      "8972/8972 [==============================] - 1s 141us/step - loss: 0.0074 - acc: 0.9776 - val_loss: 0.0358 - val_acc: 0.8889\n",
      "Epoch 89/100\n",
      "8972/8972 [==============================] - 1s 138us/step - loss: 0.0075 - acc: 0.9768 - val_loss: 0.0341 - val_acc: 0.8947\n",
      "Epoch 90/100\n",
      "8972/8972 [==============================] - 1s 134us/step - loss: 0.0079 - acc: 0.9744 - val_loss: 0.0317 - val_acc: 0.9018\n",
      "Epoch 91/100\n",
      "8972/8972 [==============================] - 1s 134us/step - loss: 0.0074 - acc: 0.9779 - val_loss: 0.0393 - val_acc: 0.8820\n",
      "Epoch 92/100\n",
      "8972/8972 [==============================] - 1s 138us/step - loss: 0.0072 - acc: 0.9782 - val_loss: 0.0329 - val_acc: 0.9015\n",
      "Epoch 93/100\n",
      "8972/8972 [==============================] - 1s 132us/step - loss: 0.0068 - acc: 0.9790 - val_loss: 0.0313 - val_acc: 0.9046\n",
      "Epoch 94/100\n",
      "8972/8972 [==============================] - 1s 130us/step - loss: 0.0071 - acc: 0.9780 - val_loss: 0.0373 - val_acc: 0.8895\n",
      "Epoch 95/100\n",
      "8972/8972 [==============================] - 1s 131us/step - loss: 0.0068 - acc: 0.9788 - val_loss: 0.0329 - val_acc: 0.8995\n",
      "Epoch 96/100\n",
      "8972/8972 [==============================] - 1s 130us/step - loss: 0.0069 - acc: 0.9795 - val_loss: 0.0328 - val_acc: 0.8995\n",
      "Epoch 97/100\n",
      "8972/8972 [==============================] - 1s 135us/step - loss: 0.0062 - acc: 0.9798 - val_loss: 0.0366 - val_acc: 0.8933\n",
      "Epoch 98/100\n",
      "8972/8972 [==============================] - 1s 135us/step - loss: 0.0068 - acc: 0.9798 - val_loss: 0.0352 - val_acc: 0.8916\n",
      "Epoch 99/100\n",
      "8972/8972 [==============================] - 1s 134us/step - loss: 0.0069 - acc: 0.9784 - val_loss: 0.0355 - val_acc: 0.8933\n",
      "Epoch 100/100\n",
      "8972/8972 [==============================] - 1s 133us/step - loss: 0.0068 - acc: 0.9787 - val_loss: 0.0285 - val_acc: 0.9094\n",
      "CPU times: user 5min 37s, sys: 46.2 s, total: 6min 23s\n",
      "Wall time: 2min 9s\n"
     ]
    }
   ],
   "source": [
    "PATH_TO_BEST_MODEL = 'models/best_model.hdf5'\n",
    "\n",
    "callbacks = [\n",
    "    keras.callbacks.ModelCheckpoint(PATH_TO_BEST_MODEL, \n",
    "                                    monitor='val_acc', \n",
    "                                    verbose=0, \n",
    "                                    save_best_only=True, \n",
    "                                    save_weights_only=False, \n",
    "                                    mode='auto', \n",
    "                                    period=1)\n",
    "]\n",
    "\n",
    "%time history = model.fit(train_data, train_labels, epochs=100, callbacks=callbacks, batch_size=64, validation_data=(val_data, val_labels))"
   ]
  },
  {
   "cell_type": "code",
   "execution_count": 9,
   "metadata": {},
   "outputs": [
    {
     "name": "stdout",
     "output_type": "stream",
     "text": [
      "              acc     val_acc        loss    val_loss\n",
      "count  100.000000  100.000000  100.000000  100.000000\n",
      "mean     0.939036    0.861105    0.020836    0.047433\n",
      "std      0.114792    0.059913    0.040670    0.021779\n",
      "min      0.393558    0.584815    0.002560    0.032318\n",
      "25%      0.962773    0.866878    0.003628    0.038061\n",
      "50%      0.983950    0.879446    0.005483    0.042397\n",
      "75%      0.989328    0.887226    0.013144    0.045686\n",
      "max      0.992644    0.904583    0.230273    0.162473\n"
     ]
    },
    {
     "data": {
      "text/plain": [
       "<matplotlib.axes._subplots.AxesSubplot at 0x128b6a2e8>"
      ]
     },
     "execution_count": 9,
     "metadata": {},
     "output_type": "execute_result"
    },
    {
     "data": {
      "image/png": "[encoded data removed]",
      "text/plain": [
       "<Figure size 432x288 with 1 Axes>"
      ]
     },
     "metadata": {},
     "output_type": "display_data"
    },
    {
     "data": {
      "image/png": "[encoded data removed]",
      "text/plain": [
       "<Figure size 432x288 with 1 Axes>"
      ]
     },
     "metadata": {},
     "output_type": "display_data"
    },
    {
     "data": {
      "image/png": "[encoded data removed]",
      "text/plain": [
       "<Figure size 432x288 with 1 Axes>"
      ]
     },
     "metadata": {},
     "output_type": "display_data"
    },
    {
     "data": {
      "image/png": "[encoded data removed]",
      "text/plain": [
       "<Figure size 432x288 with 1 Axes>"
      ]
     },
     "metadata": {},
     "output_type": "display_data"
    }
   ],
   "source": [
    "%matplotlib inline\n",
    "\n",
    "history_df = pd.DataFrame(\n",
    "    {'acc': history.history['acc'],\n",
    "     'val_acc': history.history['val_acc'],\n",
    "     'loss': history.history['loss'],\n",
    "     'val_loss': history.history['val_loss']\n",
    "    })\n",
    "\n",
    "print(history_df.describe())\n",
    "\n",
    "history_df[['acc', 'val_acc']].plot(title='Full accuracy')\n",
    "history_df[['loss', 'val_loss']].plot(title='Full loss')\n",
    "history_df[['acc', 'val_acc']][-50:].plot(title='Last 50 epochs accuracy')\n",
    "history_df[['loss', 'val_loss']][-50:].plot(title='Last 50 epochs loss')"
   ]
  },
  {
   "cell_type": "code",
   "execution_count": 10,
   "metadata": {},
   "outputs": [],
   "source": [
    "best_model = keras.models.load_model(PATH_TO_BEST_MODEL)"
   ]
  },
  {
   "cell_type": "code",
   "execution_count": 11,
   "metadata": {},
   "outputs": [
    {
     "name": "stdout",
     "output_type": "stream",
     "text": [
      "2924/2924 [==============================] - 0s 84us/step\n"
     ]
    },
    {
     "data": {
      "text/plain": [
       "[0.04429094089086613, 0.8703830369357045]"
      ]
     },
     "execution_count": 11,
     "metadata": {},
     "output_type": "execute_result"
    }
   ],
   "source": [
    "best_model.evaluate(test_data, test_labels)"
   ]
  },
  {
   "cell_type": "code",
   "execution_count": 12,
   "metadata": {},
   "outputs": [
    {
     "data": {
      "text/plain": [
       "array([[4.8738749e-11, 2.2094013e-10, 1.7348491e-06, 9.6873030e-13,\n",
       "        9.9999821e-01]], dtype=float32)"
      ]
     },
     "execution_count": 12,
     "metadata": {},
     "output_type": "execute_result"
    }
   ],
   "source": [
    "best_model.predict(test_data[0:1])"
   ]
  },
  {
   "cell_type": "code",
   "execution_count": null,
   "metadata": {},
   "outputs": [],
   "source": []
  }
 ],
 "metadata": {
  "kernelspec": {
   "display_name": "Python 3",
   "language": "python",
   "name": "python3"
  },
  "language_info": {
   "codemirror_mode": {
    "name": "ipython",
    "version": 3
   },
   "file_extension": ".py",
   "mimetype": "text/x-python",
   "name": "python",
   "nbconvert_exporter": "python",
   "pygments_lexer": "ipython3",
   "version": "3.6.5"
  }
 },
 "nbformat": 4,
 "nbformat_minor": 2
}
